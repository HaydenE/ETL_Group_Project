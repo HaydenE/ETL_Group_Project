{
 "cells": [
  {
   "cell_type": "markdown",
   "metadata": {},
   "source": [
    "# Set up of Jupyter Notebook and establishing connection"
   ]
  },
  {
   "cell_type": "code",
   "execution_count": 1,
   "metadata": {},
   "outputs": [],
   "source": [
    "%matplotlib inline\n",
    "from matplotlib import style\n",
    "style.use('fivethirtyeight')\n",
    "import matplotlib.pyplot as plt\n",
    "\n",
    "import sqlalchemy\n",
    "from sqlalchemy.ext.automap import automap_base\n",
    "from sqlalchemy.orm import Session\n",
    "from sqlalchemy import create_engine, func\n",
    "import pandas.io.sql as psql\n",
    "\n",
    "import numpy as np\n",
    "import plotly.express as px\n",
    "import pandas as pd\n",
    "import os"
   ]
  },
  {
   "cell_type": "code",
   "execution_count": 2,
   "metadata": {},
   "outputs": [
    {
     "data": {
      "text/plain": [
       "['states', 'overdoses', 'opioids', 'prescribers', 'prescriptions']"
      ]
     },
     "execution_count": 2,
     "metadata": {},
     "output_type": "execute_result"
    }
   ],
   "source": [
    "rds_connection_string = \"postgres:helloworld@localhost:5432/ETL_HW\"\n",
    "engine = create_engine(f'postgresql://{rds_connection_string}')\n",
    "engine.table_names()"
   ]
  },
  {
   "cell_type": "markdown",
   "metadata": {},
   "source": [
    "# Data Cleaning"
   ]
  },
  {
   "cell_type": "code",
   "execution_count": 23,
   "metadata": {},
   "outputs": [],
   "source": [
    "file = \"Haydens_Workplace\\Cleaned_Op_Death_data.csv\"\n",
    "df = pd.read_csv(file)"
   ]
  },
  {
   "cell_type": "code",
   "execution_count": 25,
   "metadata": {},
   "outputs": [
    {
     "data": {
      "application/vnd.plotly.v1+json": {
       "config": {
        "plotlyServerURL": "https://plot.ly"
       },
       "data": [
        {
         "alignmentgroup": "True",
         "hoverlabel": {
          "namelength": 0
         },
         "hovertemplate": "State=%{x}<br>Data Value=%{y}",
         "legendgroup": "",
         "marker": {
          "color": "#636efa"
         },
         "name": "",
         "offsetgroup": "",
         "orientation": "v",
         "showlegend": false,
         "textposition": "auto",
         "type": "bar",
         "x": [
          "AK",
          "AK",
          "AK",
          "AK",
          "AK",
          "AZ",
          "AZ",
          "AZ",
          "CT",
          "CT",
          "CT",
          "CT",
          "CT",
          "DC",
          "DC",
          "DC",
          "DC",
          "DC",
          "DE",
          "DE",
          "GA",
          "GA",
          "GA",
          "GA",
          "GA",
          "HI",
          "HI",
          "HI",
          "HI",
          "IA",
          "IA",
          "IA",
          "IA",
          "IA",
          "IL",
          "IL",
          "IL",
          "IL",
          "IL",
          "KY",
          "KY",
          "MA",
          "MA",
          "MA",
          "MA",
          "MA",
          "MD",
          "MD",
          "MD",
          "MD",
          "MD",
          "ME",
          "ME",
          "ME",
          "ME",
          "ME",
          "NC",
          "NC",
          "NC",
          "NC",
          "NC",
          "NH",
          "NH",
          "NH",
          "NH",
          "NH",
          "NJ",
          "NJ",
          "NM",
          "NM",
          "NM",
          "NM",
          "NM",
          "NV",
          "NV",
          "NV",
          "NV",
          "NV",
          "NY",
          "NY",
          "NY",
          "NY",
          "NY",
          "OH",
          "OH",
          "OH",
          "OH",
          "OH",
          "OK",
          "OK",
          "OK",
          "OK",
          "OK",
          "OR",
          "OR",
          "OR",
          "OR",
          "OR",
          "RI",
          "RI",
          "RI",
          "RI",
          "RI",
          "SC",
          "SC",
          "SC",
          "SC",
          "SC",
          "SD",
          "SD",
          "SD",
          "SD",
          "SD",
          "TN",
          "TN",
          "TN",
          "TN",
          "TN",
          "UT",
          "UT",
          "UT",
          "UT",
          "UT",
          "VA",
          "VA",
          "VA",
          "VA",
          "VA",
          "VT",
          "VT",
          "VT",
          "VT",
          "VT",
          "WA",
          "WA",
          "WA",
          "WA",
          "WA",
          "WI",
          "WI",
          "WI",
          "WI",
          "WI",
          "WV",
          "WV",
          "WV",
          "WV",
          "WV",
          "WY",
          "WY",
          "WY"
         ],
         "xaxis": "x",
         "y": [
          165,
          1163,
          1110,
          990,
          136,
          6208,
          12331,
          2295,
          7164,
          9528,
          11231,
          11444,
          1918,
          1050,
          1989,
          3454,
          2639,
          440,
          3291,
          724,
          4421,
          10280,
          11903,
          10995,
          1688,
          802,
          345,
          497,
          127,
          1944,
          1730,
          2353,
          2065,
          271,
          13319,
          20928,
          25081,
          26834,
          4278,
          11529,
          1977,
          1549,
          21377,
          22936,
          23875,
          3916,
          12081,
          17918,
          24210,
          25792,
          4266,
          2563,
          3222,
          3875,
          3965,
          549,
          12645,
          16343,
          20824,
          22001,
          3481,
          4454,
          4758,
          5021,
          5040,
          734,
          16729,
          5057,
          4586,
          4218,
          4199,
          3958,
          650,
          4916,
          5388,
          5029,
          4950,
          823,
          15855,
          20733,
          24694,
          22674,
          3508,
          22895,
          38043,
          51201,
          42480,
          6570,
          5563,
          4996,
          5171,
          3896,
          574,
          4065,
          3863,
          3856,
          4242,
          670,
          2976,
          3341,
          3448,
          3345,
          572,
          6428,
          6862,
          8447,
          9332,
          1659,
          146,
          165,
          482,
          354,
          50,
          8806,
          13583,
          14969,
          15354,
          2647,
          5333,
          6005,
          5332,
          5539,
          867,
          9295,
          11715,
          13957,
          14204,
          2446,
          851,
          1078,
          1332,
          1374,
          241,
          8296,
          8894,
          8409,
          8902,
          1476,
          1288,
          8474,
          10817,
          10625,
          1658,
          7341,
          8172,
          10024,
          9249,
          1432,
          404,
          497,
          83
         ],
         "yaxis": "y"
        }
       ],
       "layout": {
        "barmode": "relative",
        "height": 600,
        "legend": {
         "tracegroupgap": 0
        },
        "template": {
         "data": {
          "bar": [
           {
            "error_x": {
             "color": "#2a3f5f"
            },
            "error_y": {
             "color": "#2a3f5f"
            },
            "marker": {
             "line": {
              "color": "#E5ECF6",
              "width": 0.5
             }
            },
            "type": "bar"
           }
          ],
          "barpolar": [
           {
            "marker": {
             "line": {
              "color": "#E5ECF6",
              "width": 0.5
             }
            },
            "type": "barpolar"
           }
          ],
          "carpet": [
           {
            "aaxis": {
             "endlinecolor": "#2a3f5f",
             "gridcolor": "white",
             "linecolor": "white",
             "minorgridcolor": "white",
             "startlinecolor": "#2a3f5f"
            },
            "baxis": {
             "endlinecolor": "#2a3f5f",
             "gridcolor": "white",
             "linecolor": "white",
             "minorgridcolor": "white",
             "startlinecolor": "#2a3f5f"
            },
            "type": "carpet"
           }
          ],
          "choropleth": [
           {
            "colorbar": {
             "outlinewidth": 0,
             "ticks": ""
            },
            "type": "choropleth"
           }
          ],
          "contour": [
           {
            "colorbar": {
             "outlinewidth": 0,
             "ticks": ""
            },
            "colorscale": [
             [
              0,
              "#0d0887"
             ],
             [
              0.1111111111111111,
              "#46039f"
             ],
             [
              0.2222222222222222,
              "#7201a8"
             ],
             [
              0.3333333333333333,
              "#9c179e"
             ],
             [
              0.4444444444444444,
              "#bd3786"
             ],
             [
              0.5555555555555556,
              "#d8576b"
             ],
             [
              0.6666666666666666,
              "#ed7953"
             ],
             [
              0.7777777777777778,
              "#fb9f3a"
             ],
             [
              0.8888888888888888,
              "#fdca26"
             ],
             [
              1,
              "#f0f921"
             ]
            ],
            "type": "contour"
           }
          ],
          "contourcarpet": [
           {
            "colorbar": {
             "outlinewidth": 0,
             "ticks": ""
            },
            "type": "contourcarpet"
           }
          ],
          "heatmap": [
           {
            "colorbar": {
             "outlinewidth": 0,
             "ticks": ""
            },
            "colorscale": [
             [
              0,
              "#0d0887"
             ],
             [
              0.1111111111111111,
              "#46039f"
             ],
             [
              0.2222222222222222,
              "#7201a8"
             ],
             [
              0.3333333333333333,
              "#9c179e"
             ],
             [
              0.4444444444444444,
              "#bd3786"
             ],
             [
              0.5555555555555556,
              "#d8576b"
             ],
             [
              0.6666666666666666,
              "#ed7953"
             ],
             [
              0.7777777777777778,
              "#fb9f3a"
             ],
             [
              0.8888888888888888,
              "#fdca26"
             ],
             [
              1,
              "#f0f921"
             ]
            ],
            "type": "heatmap"
           }
          ],
          "heatmapgl": [
           {
            "colorbar": {
             "outlinewidth": 0,
             "ticks": ""
            },
            "colorscale": [
             [
              0,
              "#0d0887"
             ],
             [
              0.1111111111111111,
              "#46039f"
             ],
             [
              0.2222222222222222,
              "#7201a8"
             ],
             [
              0.3333333333333333,
              "#9c179e"
             ],
             [
              0.4444444444444444,
              "#bd3786"
             ],
             [
              0.5555555555555556,
              "#d8576b"
             ],
             [
              0.6666666666666666,
              "#ed7953"
             ],
             [
              0.7777777777777778,
              "#fb9f3a"
             ],
             [
              0.8888888888888888,
              "#fdca26"
             ],
             [
              1,
              "#f0f921"
             ]
            ],
            "type": "heatmapgl"
           }
          ],
          "histogram": [
           {
            "marker": {
             "colorbar": {
              "outlinewidth": 0,
              "ticks": ""
             }
            },
            "type": "histogram"
           }
          ],
          "histogram2d": [
           {
            "colorbar": {
             "outlinewidth": 0,
             "ticks": ""
            },
            "colorscale": [
             [
              0,
              "#0d0887"
             ],
             [
              0.1111111111111111,
              "#46039f"
             ],
             [
              0.2222222222222222,
              "#7201a8"
             ],
             [
              0.3333333333333333,
              "#9c179e"
             ],
             [
              0.4444444444444444,
              "#bd3786"
             ],
             [
              0.5555555555555556,
              "#d8576b"
             ],
             [
              0.6666666666666666,
              "#ed7953"
             ],
             [
              0.7777777777777778,
              "#fb9f3a"
             ],
             [
              0.8888888888888888,
              "#fdca26"
             ],
             [
              1,
              "#f0f921"
             ]
            ],
            "type": "histogram2d"
           }
          ],
          "histogram2dcontour": [
           {
            "colorbar": {
             "outlinewidth": 0,
             "ticks": ""
            },
            "colorscale": [
             [
              0,
              "#0d0887"
             ],
             [
              0.1111111111111111,
              "#46039f"
             ],
             [
              0.2222222222222222,
              "#7201a8"
             ],
             [
              0.3333333333333333,
              "#9c179e"
             ],
             [
              0.4444444444444444,
              "#bd3786"
             ],
             [
              0.5555555555555556,
              "#d8576b"
             ],
             [
              0.6666666666666666,
              "#ed7953"
             ],
             [
              0.7777777777777778,
              "#fb9f3a"
             ],
             [
              0.8888888888888888,
              "#fdca26"
             ],
             [
              1,
              "#f0f921"
             ]
            ],
            "type": "histogram2dcontour"
           }
          ],
          "mesh3d": [
           {
            "colorbar": {
             "outlinewidth": 0,
             "ticks": ""
            },
            "type": "mesh3d"
           }
          ],
          "parcoords": [
           {
            "line": {
             "colorbar": {
              "outlinewidth": 0,
              "ticks": ""
             }
            },
            "type": "parcoords"
           }
          ],
          "scatter": [
           {
            "marker": {
             "colorbar": {
              "outlinewidth": 0,
              "ticks": ""
             }
            },
            "type": "scatter"
           }
          ],
          "scatter3d": [
           {
            "line": {
             "colorbar": {
              "outlinewidth": 0,
              "ticks": ""
             }
            },
            "marker": {
             "colorbar": {
              "outlinewidth": 0,
              "ticks": ""
             }
            },
            "type": "scatter3d"
           }
          ],
          "scattercarpet": [
           {
            "marker": {
             "colorbar": {
              "outlinewidth": 0,
              "ticks": ""
             }
            },
            "type": "scattercarpet"
           }
          ],
          "scattergeo": [
           {
            "marker": {
             "colorbar": {
              "outlinewidth": 0,
              "ticks": ""
             }
            },
            "type": "scattergeo"
           }
          ],
          "scattergl": [
           {
            "marker": {
             "colorbar": {
              "outlinewidth": 0,
              "ticks": ""
             }
            },
            "type": "scattergl"
           }
          ],
          "scattermapbox": [
           {
            "marker": {
             "colorbar": {
              "outlinewidth": 0,
              "ticks": ""
             }
            },
            "type": "scattermapbox"
           }
          ],
          "scatterpolar": [
           {
            "marker": {
             "colorbar": {
              "outlinewidth": 0,
              "ticks": ""
             }
            },
            "type": "scatterpolar"
           }
          ],
          "scatterpolargl": [
           {
            "marker": {
             "colorbar": {
              "outlinewidth": 0,
              "ticks": ""
             }
            },
            "type": "scatterpolargl"
           }
          ],
          "scatterternary": [
           {
            "marker": {
             "colorbar": {
              "outlinewidth": 0,
              "ticks": ""
             }
            },
            "type": "scatterternary"
           }
          ],
          "surface": [
           {
            "colorbar": {
             "outlinewidth": 0,
             "ticks": ""
            },
            "colorscale": [
             [
              0,
              "#0d0887"
             ],
             [
              0.1111111111111111,
              "#46039f"
             ],
             [
              0.2222222222222222,
              "#7201a8"
             ],
             [
              0.3333333333333333,
              "#9c179e"
             ],
             [
              0.4444444444444444,
              "#bd3786"
             ],
             [
              0.5555555555555556,
              "#d8576b"
             ],
             [
              0.6666666666666666,
              "#ed7953"
             ],
             [
              0.7777777777777778,
              "#fb9f3a"
             ],
             [
              0.8888888888888888,
              "#fdca26"
             ],
             [
              1,
              "#f0f921"
             ]
            ],
            "type": "surface"
           }
          ],
          "table": [
           {
            "cells": {
             "fill": {
              "color": "#EBF0F8"
             },
             "line": {
              "color": "white"
             }
            },
            "header": {
             "fill": {
              "color": "#C8D4E3"
             },
             "line": {
              "color": "white"
             }
            },
            "type": "table"
           }
          ]
         },
         "layout": {
          "annotationdefaults": {
           "arrowcolor": "#2a3f5f",
           "arrowhead": 0,
           "arrowwidth": 1
          },
          "colorscale": {
           "diverging": [
            [
             0,
             "#8e0152"
            ],
            [
             0.1,
             "#c51b7d"
            ],
            [
             0.2,
             "#de77ae"
            ],
            [
             0.3,
             "#f1b6da"
            ],
            [
             0.4,
             "#fde0ef"
            ],
            [
             0.5,
             "#f7f7f7"
            ],
            [
             0.6,
             "#e6f5d0"
            ],
            [
             0.7,
             "#b8e186"
            ],
            [
             0.8,
             "#7fbc41"
            ],
            [
             0.9,
             "#4d9221"
            ],
            [
             1,
             "#276419"
            ]
           ],
           "sequential": [
            [
             0,
             "#0d0887"
            ],
            [
             0.1111111111111111,
             "#46039f"
            ],
            [
             0.2222222222222222,
             "#7201a8"
            ],
            [
             0.3333333333333333,
             "#9c179e"
            ],
            [
             0.4444444444444444,
             "#bd3786"
            ],
            [
             0.5555555555555556,
             "#d8576b"
            ],
            [
             0.6666666666666666,
             "#ed7953"
            ],
            [
             0.7777777777777778,
             "#fb9f3a"
            ],
            [
             0.8888888888888888,
             "#fdca26"
            ],
            [
             1,
             "#f0f921"
            ]
           ],
           "sequentialminus": [
            [
             0,
             "#0d0887"
            ],
            [
             0.1111111111111111,
             "#46039f"
            ],
            [
             0.2222222222222222,
             "#7201a8"
            ],
            [
             0.3333333333333333,
             "#9c179e"
            ],
            [
             0.4444444444444444,
             "#bd3786"
            ],
            [
             0.5555555555555556,
             "#d8576b"
            ],
            [
             0.6666666666666666,
             "#ed7953"
            ],
            [
             0.7777777777777778,
             "#fb9f3a"
            ],
            [
             0.8888888888888888,
             "#fdca26"
            ],
            [
             1,
             "#f0f921"
            ]
           ]
          },
          "colorway": [
           "#636efa",
           "#EF553B",
           "#00cc96",
           "#ab63fa",
           "#FFA15A",
           "#19d3f3",
           "#FF6692",
           "#B6E880",
           "#FF97FF",
           "#FECB52"
          ],
          "font": {
           "color": "#2a3f5f"
          },
          "geo": {
           "bgcolor": "white",
           "lakecolor": "white",
           "landcolor": "#E5ECF6",
           "showlakes": true,
           "showland": true,
           "subunitcolor": "white"
          },
          "hoverlabel": {
           "align": "left"
          },
          "hovermode": "closest",
          "mapbox": {
           "style": "light"
          },
          "paper_bgcolor": "white",
          "plot_bgcolor": "#E5ECF6",
          "polar": {
           "angularaxis": {
            "gridcolor": "white",
            "linecolor": "white",
            "ticks": ""
           },
           "bgcolor": "#E5ECF6",
           "radialaxis": {
            "gridcolor": "white",
            "linecolor": "white",
            "ticks": ""
           }
          },
          "scene": {
           "xaxis": {
            "backgroundcolor": "#E5ECF6",
            "gridcolor": "white",
            "gridwidth": 2,
            "linecolor": "white",
            "showbackground": true,
            "ticks": "",
            "zerolinecolor": "white"
           },
           "yaxis": {
            "backgroundcolor": "#E5ECF6",
            "gridcolor": "white",
            "gridwidth": 2,
            "linecolor": "white",
            "showbackground": true,
            "ticks": "",
            "zerolinecolor": "white"
           },
           "zaxis": {
            "backgroundcolor": "#E5ECF6",
            "gridcolor": "white",
            "gridwidth": 2,
            "linecolor": "white",
            "showbackground": true,
            "ticks": "",
            "zerolinecolor": "white"
           }
          },
          "shapedefaults": {
           "line": {
            "color": "#2a3f5f"
           }
          },
          "ternary": {
           "aaxis": {
            "gridcolor": "white",
            "linecolor": "white",
            "ticks": ""
           },
           "baxis": {
            "gridcolor": "white",
            "linecolor": "white",
            "ticks": ""
           },
           "bgcolor": "#E5ECF6",
           "caxis": {
            "gridcolor": "white",
            "linecolor": "white",
            "ticks": ""
           }
          },
          "title": {
           "x": 0.05
          },
          "xaxis": {
           "automargin": true,
           "gridcolor": "white",
           "linecolor": "white",
           "ticks": "",
           "zerolinecolor": "white",
           "zerolinewidth": 2
          },
          "yaxis": {
           "automargin": true,
           "gridcolor": "white",
           "linecolor": "white",
           "ticks": "",
           "zerolinecolor": "white",
           "zerolinewidth": 2
          }
         }
        },
        "title": {
         "text": "Opiod Overdose Rates by State"
        },
        "xaxis": {
         "anchor": "y",
         "domain": [
          0,
          0.98
         ],
         "title": {
          "text": "State"
         }
        },
        "yaxis": {
         "anchor": "x",
         "domain": [
          0,
          1
         ],
         "title": {
          "text": "Data Value"
         }
        }
       }
      },
      "text/html": [
       "<div>\n",
       "        \n",
       "        \n",
       "            <div id=\"c98a4a86-895e-4dcc-90b1-161e2717c1c4\" class=\"plotly-graph-div\" style=\"height:600px; width:100%;\"></div>\n",
       "            <script type=\"text/javascript\">\n",
       "                require([\"plotly\"], function(Plotly) {\n",
       "                    window.PLOTLYENV=window.PLOTLYENV || {};\n",
       "                    \n",
       "                if (document.getElementById(\"c98a4a86-895e-4dcc-90b1-161e2717c1c4\")) {\n",
       "                    Plotly.newPlot(\n",
       "                        'c98a4a86-895e-4dcc-90b1-161e2717c1c4',\n",
       "                        [{\"alignmentgroup\": \"True\", \"hoverlabel\": {\"namelength\": 0}, \"hovertemplate\": \"State=%{x}<br>Data Value=%{y}\", \"legendgroup\": \"\", \"marker\": {\"color\": \"#636efa\"}, \"name\": \"\", \"offsetgroup\": \"\", \"orientation\": \"v\", \"showlegend\": false, \"textposition\": \"auto\", \"type\": \"bar\", \"x\": [\"AK\", \"AK\", \"AK\", \"AK\", \"AK\", \"AZ\", \"AZ\", \"AZ\", \"CT\", \"CT\", \"CT\", \"CT\", \"CT\", \"DC\", \"DC\", \"DC\", \"DC\", \"DC\", \"DE\", \"DE\", \"GA\", \"GA\", \"GA\", \"GA\", \"GA\", \"HI\", \"HI\", \"HI\", \"HI\", \"IA\", \"IA\", \"IA\", \"IA\", \"IA\", \"IL\", \"IL\", \"IL\", \"IL\", \"IL\", \"KY\", \"KY\", \"MA\", \"MA\", \"MA\", \"MA\", \"MA\", \"MD\", \"MD\", \"MD\", \"MD\", \"MD\", \"ME\", \"ME\", \"ME\", \"ME\", \"ME\", \"NC\", \"NC\", \"NC\", \"NC\", \"NC\", \"NH\", \"NH\", \"NH\", \"NH\", \"NH\", \"NJ\", \"NJ\", \"NM\", \"NM\", \"NM\", \"NM\", \"NM\", \"NV\", \"NV\", \"NV\", \"NV\", \"NV\", \"NY\", \"NY\", \"NY\", \"NY\", \"NY\", \"OH\", \"OH\", \"OH\", \"OH\", \"OH\", \"OK\", \"OK\", \"OK\", \"OK\", \"OK\", \"OR\", \"OR\", \"OR\", \"OR\", \"OR\", \"RI\", \"RI\", \"RI\", \"RI\", \"RI\", \"SC\", \"SC\", \"SC\", \"SC\", \"SC\", \"SD\", \"SD\", \"SD\", \"SD\", \"SD\", \"TN\", \"TN\", \"TN\", \"TN\", \"TN\", \"UT\", \"UT\", \"UT\", \"UT\", \"UT\", \"VA\", \"VA\", \"VA\", \"VA\", \"VA\", \"VT\", \"VT\", \"VT\", \"VT\", \"VT\", \"WA\", \"WA\", \"WA\", \"WA\", \"WA\", \"WI\", \"WI\", \"WI\", \"WI\", \"WI\", \"WV\", \"WV\", \"WV\", \"WV\", \"WV\", \"WY\", \"WY\", \"WY\"], \"xaxis\": \"x\", \"y\": [165, 1163, 1110, 990, 136, 6208, 12331, 2295, 7164, 9528, 11231, 11444, 1918, 1050, 1989, 3454, 2639, 440, 3291, 724, 4421, 10280, 11903, 10995, 1688, 802, 345, 497, 127, 1944, 1730, 2353, 2065, 271, 13319, 20928, 25081, 26834, 4278, 11529, 1977, 1549, 21377, 22936, 23875, 3916, 12081, 17918, 24210, 25792, 4266, 2563, 3222, 3875, 3965, 549, 12645, 16343, 20824, 22001, 3481, 4454, 4758, 5021, 5040, 734, 16729, 5057, 4586, 4218, 4199, 3958, 650, 4916, 5388, 5029, 4950, 823, 15855, 20733, 24694, 22674, 3508, 22895, 38043, 51201, 42480, 6570, 5563, 4996, 5171, 3896, 574, 4065, 3863, 3856, 4242, 670, 2976, 3341, 3448, 3345, 572, 6428, 6862, 8447, 9332, 1659, 146, 165, 482, 354, 50, 8806, 13583, 14969, 15354, 2647, 5333, 6005, 5332, 5539, 867, 9295, 11715, 13957, 14204, 2446, 851, 1078, 1332, 1374, 241, 8296, 8894, 8409, 8902, 1476, 1288, 8474, 10817, 10625, 1658, 7341, 8172, 10024, 9249, 1432, 404, 497, 83], \"yaxis\": \"y\"}],\n",
       "                        {\"barmode\": \"relative\", \"height\": 600, \"legend\": {\"tracegroupgap\": 0}, \"template\": {\"data\": {\"bar\": [{\"error_x\": {\"color\": \"#2a3f5f\"}, \"error_y\": {\"color\": \"#2a3f5f\"}, \"marker\": {\"line\": {\"color\": \"#E5ECF6\", \"width\": 0.5}}, \"type\": \"bar\"}], \"barpolar\": [{\"marker\": {\"line\": {\"color\": \"#E5ECF6\", \"width\": 0.5}}, \"type\": \"barpolar\"}], \"carpet\": [{\"aaxis\": {\"endlinecolor\": \"#2a3f5f\", \"gridcolor\": \"white\", \"linecolor\": \"white\", \"minorgridcolor\": \"white\", \"startlinecolor\": \"#2a3f5f\"}, \"baxis\": {\"endlinecolor\": \"#2a3f5f\", \"gridcolor\": \"white\", \"linecolor\": \"white\", \"minorgridcolor\": \"white\", \"startlinecolor\": \"#2a3f5f\"}, \"type\": \"carpet\"}], \"choropleth\": [{\"colorbar\": {\"outlinewidth\": 0, \"ticks\": \"\"}, \"type\": \"choropleth\"}], \"contour\": [{\"colorbar\": {\"outlinewidth\": 0, \"ticks\": \"\"}, \"colorscale\": [[0.0, \"#0d0887\"], [0.1111111111111111, \"#46039f\"], [0.2222222222222222, \"#7201a8\"], [0.3333333333333333, \"#9c179e\"], [0.4444444444444444, \"#bd3786\"], [0.5555555555555556, \"#d8576b\"], [0.6666666666666666, \"#ed7953\"], [0.7777777777777778, \"#fb9f3a\"], [0.8888888888888888, \"#fdca26\"], [1.0, \"#f0f921\"]], \"type\": \"contour\"}], \"contourcarpet\": [{\"colorbar\": {\"outlinewidth\": 0, \"ticks\": \"\"}, \"type\": \"contourcarpet\"}], \"heatmap\": [{\"colorbar\": {\"outlinewidth\": 0, \"ticks\": \"\"}, \"colorscale\": [[0.0, \"#0d0887\"], [0.1111111111111111, \"#46039f\"], [0.2222222222222222, \"#7201a8\"], [0.3333333333333333, \"#9c179e\"], [0.4444444444444444, \"#bd3786\"], [0.5555555555555556, \"#d8576b\"], [0.6666666666666666, \"#ed7953\"], [0.7777777777777778, \"#fb9f3a\"], [0.8888888888888888, \"#fdca26\"], [1.0, \"#f0f921\"]], \"type\": \"heatmap\"}], \"heatmapgl\": [{\"colorbar\": {\"outlinewidth\": 0, \"ticks\": \"\"}, \"colorscale\": [[0.0, \"#0d0887\"], [0.1111111111111111, \"#46039f\"], [0.2222222222222222, \"#7201a8\"], [0.3333333333333333, \"#9c179e\"], [0.4444444444444444, \"#bd3786\"], [0.5555555555555556, \"#d8576b\"], [0.6666666666666666, \"#ed7953\"], [0.7777777777777778, \"#fb9f3a\"], [0.8888888888888888, \"#fdca26\"], [1.0, \"#f0f921\"]], \"type\": \"heatmapgl\"}], \"histogram\": [{\"marker\": {\"colorbar\": {\"outlinewidth\": 0, \"ticks\": \"\"}}, \"type\": \"histogram\"}], \"histogram2d\": [{\"colorbar\": {\"outlinewidth\": 0, \"ticks\": \"\"}, \"colorscale\": [[0.0, \"#0d0887\"], [0.1111111111111111, \"#46039f\"], [0.2222222222222222, \"#7201a8\"], [0.3333333333333333, \"#9c179e\"], [0.4444444444444444, \"#bd3786\"], [0.5555555555555556, \"#d8576b\"], [0.6666666666666666, \"#ed7953\"], [0.7777777777777778, \"#fb9f3a\"], [0.8888888888888888, \"#fdca26\"], [1.0, \"#f0f921\"]], \"type\": \"histogram2d\"}], \"histogram2dcontour\": [{\"colorbar\": {\"outlinewidth\": 0, \"ticks\": \"\"}, \"colorscale\": [[0.0, \"#0d0887\"], [0.1111111111111111, \"#46039f\"], [0.2222222222222222, \"#7201a8\"], [0.3333333333333333, \"#9c179e\"], [0.4444444444444444, \"#bd3786\"], [0.5555555555555556, \"#d8576b\"], [0.6666666666666666, \"#ed7953\"], [0.7777777777777778, \"#fb9f3a\"], [0.8888888888888888, \"#fdca26\"], [1.0, \"#f0f921\"]], \"type\": \"histogram2dcontour\"}], \"mesh3d\": [{\"colorbar\": {\"outlinewidth\": 0, \"ticks\": \"\"}, \"type\": \"mesh3d\"}], \"parcoords\": [{\"line\": {\"colorbar\": {\"outlinewidth\": 0, \"ticks\": \"\"}}, \"type\": \"parcoords\"}], \"scatter\": [{\"marker\": {\"colorbar\": {\"outlinewidth\": 0, \"ticks\": \"\"}}, \"type\": \"scatter\"}], \"scatter3d\": [{\"line\": {\"colorbar\": {\"outlinewidth\": 0, \"ticks\": \"\"}}, \"marker\": {\"colorbar\": {\"outlinewidth\": 0, \"ticks\": \"\"}}, \"type\": \"scatter3d\"}], \"scattercarpet\": [{\"marker\": {\"colorbar\": {\"outlinewidth\": 0, \"ticks\": \"\"}}, \"type\": \"scattercarpet\"}], \"scattergeo\": [{\"marker\": {\"colorbar\": {\"outlinewidth\": 0, \"ticks\": \"\"}}, \"type\": \"scattergeo\"}], \"scattergl\": [{\"marker\": {\"colorbar\": {\"outlinewidth\": 0, \"ticks\": \"\"}}, \"type\": \"scattergl\"}], \"scattermapbox\": [{\"marker\": {\"colorbar\": {\"outlinewidth\": 0, \"ticks\": \"\"}}, \"type\": \"scattermapbox\"}], \"scatterpolar\": [{\"marker\": {\"colorbar\": {\"outlinewidth\": 0, \"ticks\": \"\"}}, \"type\": \"scatterpolar\"}], \"scatterpolargl\": [{\"marker\": {\"colorbar\": {\"outlinewidth\": 0, \"ticks\": \"\"}}, \"type\": \"scatterpolargl\"}], \"scatterternary\": [{\"marker\": {\"colorbar\": {\"outlinewidth\": 0, \"ticks\": \"\"}}, \"type\": \"scatterternary\"}], \"surface\": [{\"colorbar\": {\"outlinewidth\": 0, \"ticks\": \"\"}, \"colorscale\": [[0.0, \"#0d0887\"], [0.1111111111111111, \"#46039f\"], [0.2222222222222222, \"#7201a8\"], [0.3333333333333333, \"#9c179e\"], [0.4444444444444444, \"#bd3786\"], [0.5555555555555556, \"#d8576b\"], [0.6666666666666666, \"#ed7953\"], [0.7777777777777778, \"#fb9f3a\"], [0.8888888888888888, \"#fdca26\"], [1.0, \"#f0f921\"]], \"type\": \"surface\"}], \"table\": [{\"cells\": {\"fill\": {\"color\": \"#EBF0F8\"}, \"line\": {\"color\": \"white\"}}, \"header\": {\"fill\": {\"color\": \"#C8D4E3\"}, \"line\": {\"color\": \"white\"}}, \"type\": \"table\"}]}, \"layout\": {\"annotationdefaults\": {\"arrowcolor\": \"#2a3f5f\", \"arrowhead\": 0, \"arrowwidth\": 1}, \"colorscale\": {\"diverging\": [[0, \"#8e0152\"], [0.1, \"#c51b7d\"], [0.2, \"#de77ae\"], [0.3, \"#f1b6da\"], [0.4, \"#fde0ef\"], [0.5, \"#f7f7f7\"], [0.6, \"#e6f5d0\"], [0.7, \"#b8e186\"], [0.8, \"#7fbc41\"], [0.9, \"#4d9221\"], [1, \"#276419\"]], \"sequential\": [[0.0, \"#0d0887\"], [0.1111111111111111, \"#46039f\"], [0.2222222222222222, \"#7201a8\"], [0.3333333333333333, \"#9c179e\"], [0.4444444444444444, \"#bd3786\"], [0.5555555555555556, \"#d8576b\"], [0.6666666666666666, \"#ed7953\"], [0.7777777777777778, \"#fb9f3a\"], [0.8888888888888888, \"#fdca26\"], [1.0, \"#f0f921\"]], \"sequentialminus\": [[0.0, \"#0d0887\"], [0.1111111111111111, \"#46039f\"], [0.2222222222222222, \"#7201a8\"], [0.3333333333333333, \"#9c179e\"], [0.4444444444444444, \"#bd3786\"], [0.5555555555555556, \"#d8576b\"], [0.6666666666666666, \"#ed7953\"], [0.7777777777777778, \"#fb9f3a\"], [0.8888888888888888, \"#fdca26\"], [1.0, \"#f0f921\"]]}, \"colorway\": [\"#636efa\", \"#EF553B\", \"#00cc96\", \"#ab63fa\", \"#FFA15A\", \"#19d3f3\", \"#FF6692\", \"#B6E880\", \"#FF97FF\", \"#FECB52\"], \"font\": {\"color\": \"#2a3f5f\"}, \"geo\": {\"bgcolor\": \"white\", \"lakecolor\": \"white\", \"landcolor\": \"#E5ECF6\", \"showlakes\": true, \"showland\": true, \"subunitcolor\": \"white\"}, \"hoverlabel\": {\"align\": \"left\"}, \"hovermode\": \"closest\", \"mapbox\": {\"style\": \"light\"}, \"paper_bgcolor\": \"white\", \"plot_bgcolor\": \"#E5ECF6\", \"polar\": {\"angularaxis\": {\"gridcolor\": \"white\", \"linecolor\": \"white\", \"ticks\": \"\"}, \"bgcolor\": \"#E5ECF6\", \"radialaxis\": {\"gridcolor\": \"white\", \"linecolor\": \"white\", \"ticks\": \"\"}}, \"scene\": {\"xaxis\": {\"backgroundcolor\": \"#E5ECF6\", \"gridcolor\": \"white\", \"gridwidth\": 2, \"linecolor\": \"white\", \"showbackground\": true, \"ticks\": \"\", \"zerolinecolor\": \"white\"}, \"yaxis\": {\"backgroundcolor\": \"#E5ECF6\", \"gridcolor\": \"white\", \"gridwidth\": 2, \"linecolor\": \"white\", \"showbackground\": true, \"ticks\": \"\", \"zerolinecolor\": \"white\"}, \"zaxis\": {\"backgroundcolor\": \"#E5ECF6\", \"gridcolor\": \"white\", \"gridwidth\": 2, \"linecolor\": \"white\", \"showbackground\": true, \"ticks\": \"\", \"zerolinecolor\": \"white\"}}, \"shapedefaults\": {\"line\": {\"color\": \"#2a3f5f\"}}, \"ternary\": {\"aaxis\": {\"gridcolor\": \"white\", \"linecolor\": \"white\", \"ticks\": \"\"}, \"baxis\": {\"gridcolor\": \"white\", \"linecolor\": \"white\", \"ticks\": \"\"}, \"bgcolor\": \"#E5ECF6\", \"caxis\": {\"gridcolor\": \"white\", \"linecolor\": \"white\", \"ticks\": \"\"}}, \"title\": {\"x\": 0.05}, \"xaxis\": {\"automargin\": true, \"gridcolor\": \"white\", \"linecolor\": \"white\", \"ticks\": \"\", \"zerolinecolor\": \"white\", \"zerolinewidth\": 2}, \"yaxis\": {\"automargin\": true, \"gridcolor\": \"white\", \"linecolor\": \"white\", \"ticks\": \"\", \"zerolinecolor\": \"white\", \"zerolinewidth\": 2}}}, \"title\": {\"text\": \"Opiod Overdose Rates by State\"}, \"xaxis\": {\"anchor\": \"y\", \"domain\": [0.0, 0.98], \"title\": {\"text\": \"State\"}}, \"yaxis\": {\"anchor\": \"x\", \"domain\": [0.0, 1.0], \"title\": {\"text\": \"Data Value\"}}},\n",
       "                        {\"responsive\": true}\n",
       "                    ).then(function(){\n",
       "                            \n",
       "var gd = document.getElementById('c98a4a86-895e-4dcc-90b1-161e2717c1c4');\n",
       "var x = new MutationObserver(function (mutations, observer) {{\n",
       "        var display = window.getComputedStyle(gd).display;\n",
       "        if (!display || display === 'none') {{\n",
       "            console.log([gd, 'removed!']);\n",
       "            Plotly.purge(gd);\n",
       "            observer.disconnect();\n",
       "        }}\n",
       "}});\n",
       "\n",
       "// Listen for the removal of the full notebook cells\n",
       "var notebookContainer = gd.closest('#notebook-container');\n",
       "if (notebookContainer) {{\n",
       "    x.observe(notebookContainer, {childList: true});\n",
       "}}\n",
       "\n",
       "// Listen for the clearing of the current output cell\n",
       "var outputEl = gd.closest('.output');\n",
       "if (outputEl) {{\n",
       "    x.observe(outputEl, {childList: true});\n",
       "}}\n",
       "\n",
       "                        })\n",
       "                };\n",
       "                });\n",
       "            </script>\n",
       "        </div>"
      ]
     },
     "metadata": {},
     "output_type": "display_data"
    }
   ],
   "source": [
    "fig = px.bar(df, x=\"State\", y= \"Data Value\", title=\"Opiod Overdose Rates by State\")\n",
    "fig.show()"
   ]
  },
  {
   "cell_type": "code",
   "execution_count": 26,
   "metadata": {},
   "outputs": [
    {
     "data": {
      "application/vnd.plotly.v1+json": {
       "config": {
        "plotlyServerURL": "https://plot.ly"
       },
       "data": [
        {
         "alignmentgroup": "True",
         "bingroup": "x",
         "hoverlabel": {
          "namelength": 0
         },
         "hovertemplate": "State=%{x}<br>count of Data Value=%{y}",
         "legendgroup": "",
         "marker": {
          "color": "#636efa"
         },
         "name": "",
         "offsetgroup": "",
         "orientation": "v",
         "showlegend": false,
         "type": "histogram",
         "x": [
          "AK",
          "AK",
          "AK",
          "AK",
          "AK",
          "AZ",
          "AZ",
          "AZ",
          "CT",
          "CT",
          "CT",
          "CT",
          "CT",
          "DC",
          "DC",
          "DC",
          "DC",
          "DC",
          "DE",
          "DE",
          "GA",
          "GA",
          "GA",
          "GA",
          "GA",
          "HI",
          "HI",
          "HI",
          "HI",
          "IA",
          "IA",
          "IA",
          "IA",
          "IA",
          "IL",
          "IL",
          "IL",
          "IL",
          "IL",
          "KY",
          "KY",
          "MA",
          "MA",
          "MA",
          "MA",
          "MA",
          "MD",
          "MD",
          "MD",
          "MD",
          "MD",
          "ME",
          "ME",
          "ME",
          "ME",
          "ME",
          "NC",
          "NC",
          "NC",
          "NC",
          "NC",
          "NH",
          "NH",
          "NH",
          "NH",
          "NH",
          "NJ",
          "NJ",
          "NM",
          "NM",
          "NM",
          "NM",
          "NM",
          "NV",
          "NV",
          "NV",
          "NV",
          "NV",
          "NY",
          "NY",
          "NY",
          "NY",
          "NY",
          "OH",
          "OH",
          "OH",
          "OH",
          "OH",
          "OK",
          "OK",
          "OK",
          "OK",
          "OK",
          "OR",
          "OR",
          "OR",
          "OR",
          "OR",
          "RI",
          "RI",
          "RI",
          "RI",
          "RI",
          "SC",
          "SC",
          "SC",
          "SC",
          "SC",
          "SD",
          "SD",
          "SD",
          "SD",
          "SD",
          "TN",
          "TN",
          "TN",
          "TN",
          "TN",
          "UT",
          "UT",
          "UT",
          "UT",
          "UT",
          "VA",
          "VA",
          "VA",
          "VA",
          "VA",
          "VT",
          "VT",
          "VT",
          "VT",
          "VT",
          "WA",
          "WA",
          "WA",
          "WA",
          "WA",
          "WI",
          "WI",
          "WI",
          "WI",
          "WI",
          "WV",
          "WV",
          "WV",
          "WV",
          "WV",
          "WY",
          "WY",
          "WY"
         ],
         "xaxis": "x",
         "y": [
          165,
          1163,
          1110,
          990,
          136,
          6208,
          12331,
          2295,
          7164,
          9528,
          11231,
          11444,
          1918,
          1050,
          1989,
          3454,
          2639,
          440,
          3291,
          724,
          4421,
          10280,
          11903,
          10995,
          1688,
          802,
          345,
          497,
          127,
          1944,
          1730,
          2353,
          2065,
          271,
          13319,
          20928,
          25081,
          26834,
          4278,
          11529,
          1977,
          1549,
          21377,
          22936,
          23875,
          3916,
          12081,
          17918,
          24210,
          25792,
          4266,
          2563,
          3222,
          3875,
          3965,
          549,
          12645,
          16343,
          20824,
          22001,
          3481,
          4454,
          4758,
          5021,
          5040,
          734,
          16729,
          5057,
          4586,
          4218,
          4199,
          3958,
          650,
          4916,
          5388,
          5029,
          4950,
          823,
          15855,
          20733,
          24694,
          22674,
          3508,
          22895,
          38043,
          51201,
          42480,
          6570,
          5563,
          4996,
          5171,
          3896,
          574,
          4065,
          3863,
          3856,
          4242,
          670,
          2976,
          3341,
          3448,
          3345,
          572,
          6428,
          6862,
          8447,
          9332,
          1659,
          146,
          165,
          482,
          354,
          50,
          8806,
          13583,
          14969,
          15354,
          2647,
          5333,
          6005,
          5332,
          5539,
          867,
          9295,
          11715,
          13957,
          14204,
          2446,
          851,
          1078,
          1332,
          1374,
          241,
          8296,
          8894,
          8409,
          8902,
          1476,
          1288,
          8474,
          10817,
          10625,
          1658,
          7341,
          8172,
          10024,
          9249,
          1432,
          404,
          497,
          83
         ],
         "yaxis": "y"
        }
       ],
       "layout": {
        "barmode": "relative",
        "height": 600,
        "legend": {
         "tracegroupgap": 0
        },
        "template": {
         "data": {
          "bar": [
           {
            "error_x": {
             "color": "#2a3f5f"
            },
            "error_y": {
             "color": "#2a3f5f"
            },
            "marker": {
             "line": {
              "color": "#E5ECF6",
              "width": 0.5
             }
            },
            "type": "bar"
           }
          ],
          "barpolar": [
           {
            "marker": {
             "line": {
              "color": "#E5ECF6",
              "width": 0.5
             }
            },
            "type": "barpolar"
           }
          ],
          "carpet": [
           {
            "aaxis": {
             "endlinecolor": "#2a3f5f",
             "gridcolor": "white",
             "linecolor": "white",
             "minorgridcolor": "white",
             "startlinecolor": "#2a3f5f"
            },
            "baxis": {
             "endlinecolor": "#2a3f5f",
             "gridcolor": "white",
             "linecolor": "white",
             "minorgridcolor": "white",
             "startlinecolor": "#2a3f5f"
            },
            "type": "carpet"
           }
          ],
          "choropleth": [
           {
            "colorbar": {
             "outlinewidth": 0,
             "ticks": ""
            },
            "type": "choropleth"
           }
          ],
          "contour": [
           {
            "colorbar": {
             "outlinewidth": 0,
             "ticks": ""
            },
            "colorscale": [
             [
              0,
              "#0d0887"
             ],
             [
              0.1111111111111111,
              "#46039f"
             ],
             [
              0.2222222222222222,
              "#7201a8"
             ],
             [
              0.3333333333333333,
              "#9c179e"
             ],
             [
              0.4444444444444444,
              "#bd3786"
             ],
             [
              0.5555555555555556,
              "#d8576b"
             ],
             [
              0.6666666666666666,
              "#ed7953"
             ],
             [
              0.7777777777777778,
              "#fb9f3a"
             ],
             [
              0.8888888888888888,
              "#fdca26"
             ],
             [
              1,
              "#f0f921"
             ]
            ],
            "type": "contour"
           }
          ],
          "contourcarpet": [
           {
            "colorbar": {
             "outlinewidth": 0,
             "ticks": ""
            },
            "type": "contourcarpet"
           }
          ],
          "heatmap": [
           {
            "colorbar": {
             "outlinewidth": 0,
             "ticks": ""
            },
            "colorscale": [
             [
              0,
              "#0d0887"
             ],
             [
              0.1111111111111111,
              "#46039f"
             ],
             [
              0.2222222222222222,
              "#7201a8"
             ],
             [
              0.3333333333333333,
              "#9c179e"
             ],
             [
              0.4444444444444444,
              "#bd3786"
             ],
             [
              0.5555555555555556,
              "#d8576b"
             ],
             [
              0.6666666666666666,
              "#ed7953"
             ],
             [
              0.7777777777777778,
              "#fb9f3a"
             ],
             [
              0.8888888888888888,
              "#fdca26"
             ],
             [
              1,
              "#f0f921"
             ]
            ],
            "type": "heatmap"
           }
          ],
          "heatmapgl": [
           {
            "colorbar": {
             "outlinewidth": 0,
             "ticks": ""
            },
            "colorscale": [
             [
              0,
              "#0d0887"
             ],
             [
              0.1111111111111111,
              "#46039f"
             ],
             [
              0.2222222222222222,
              "#7201a8"
             ],
             [
              0.3333333333333333,
              "#9c179e"
             ],
             [
              0.4444444444444444,
              "#bd3786"
             ],
             [
              0.5555555555555556,
              "#d8576b"
             ],
             [
              0.6666666666666666,
              "#ed7953"
             ],
             [
              0.7777777777777778,
              "#fb9f3a"
             ],
             [
              0.8888888888888888,
              "#fdca26"
             ],
             [
              1,
              "#f0f921"
             ]
            ],
            "type": "heatmapgl"
           }
          ],
          "histogram": [
           {
            "marker": {
             "colorbar": {
              "outlinewidth": 0,
              "ticks": ""
             }
            },
            "type": "histogram"
           }
          ],
          "histogram2d": [
           {
            "colorbar": {
             "outlinewidth": 0,
             "ticks": ""
            },
            "colorscale": [
             [
              0,
              "#0d0887"
             ],
             [
              0.1111111111111111,
              "#46039f"
             ],
             [
              0.2222222222222222,
              "#7201a8"
             ],
             [
              0.3333333333333333,
              "#9c179e"
             ],
             [
              0.4444444444444444,
              "#bd3786"
             ],
             [
              0.5555555555555556,
              "#d8576b"
             ],
             [
              0.6666666666666666,
              "#ed7953"
             ],
             [
              0.7777777777777778,
              "#fb9f3a"
             ],
             [
              0.8888888888888888,
              "#fdca26"
             ],
             [
              1,
              "#f0f921"
             ]
            ],
            "type": "histogram2d"
           }
          ],
          "histogram2dcontour": [
           {
            "colorbar": {
             "outlinewidth": 0,
             "ticks": ""
            },
            "colorscale": [
             [
              0,
              "#0d0887"
             ],
             [
              0.1111111111111111,
              "#46039f"
             ],
             [
              0.2222222222222222,
              "#7201a8"
             ],
             [
              0.3333333333333333,
              "#9c179e"
             ],
             [
              0.4444444444444444,
              "#bd3786"
             ],
             [
              0.5555555555555556,
              "#d8576b"
             ],
             [
              0.6666666666666666,
              "#ed7953"
             ],
             [
              0.7777777777777778,
              "#fb9f3a"
             ],
             [
              0.8888888888888888,
              "#fdca26"
             ],
             [
              1,
              "#f0f921"
             ]
            ],
            "type": "histogram2dcontour"
           }
          ],
          "mesh3d": [
           {
            "colorbar": {
             "outlinewidth": 0,
             "ticks": ""
            },
            "type": "mesh3d"
           }
          ],
          "parcoords": [
           {
            "line": {
             "colorbar": {
              "outlinewidth": 0,
              "ticks": ""
             }
            },
            "type": "parcoords"
           }
          ],
          "scatter": [
           {
            "marker": {
             "colorbar": {
              "outlinewidth": 0,
              "ticks": ""
             }
            },
            "type": "scatter"
           }
          ],
          "scatter3d": [
           {
            "line": {
             "colorbar": {
              "outlinewidth": 0,
              "ticks": ""
             }
            },
            "marker": {
             "colorbar": {
              "outlinewidth": 0,
              "ticks": ""
             }
            },
            "type": "scatter3d"
           }
          ],
          "scattercarpet": [
           {
            "marker": {
             "colorbar": {
              "outlinewidth": 0,
              "ticks": ""
             }
            },
            "type": "scattercarpet"
           }
          ],
          "scattergeo": [
           {
            "marker": {
             "colorbar": {
              "outlinewidth": 0,
              "ticks": ""
             }
            },
            "type": "scattergeo"
           }
          ],
          "scattergl": [
           {
            "marker": {
             "colorbar": {
              "outlinewidth": 0,
              "ticks": ""
             }
            },
            "type": "scattergl"
           }
          ],
          "scattermapbox": [
           {
            "marker": {
             "colorbar": {
              "outlinewidth": 0,
              "ticks": ""
             }
            },
            "type": "scattermapbox"
           }
          ],
          "scatterpolar": [
           {
            "marker": {
             "colorbar": {
              "outlinewidth": 0,
              "ticks": ""
             }
            },
            "type": "scatterpolar"
           }
          ],
          "scatterpolargl": [
           {
            "marker": {
             "colorbar": {
              "outlinewidth": 0,
              "ticks": ""
             }
            },
            "type": "scatterpolargl"
           }
          ],
          "scatterternary": [
           {
            "marker": {
             "colorbar": {
              "outlinewidth": 0,
              "ticks": ""
             }
            },
            "type": "scatterternary"
           }
          ],
          "surface": [
           {
            "colorbar": {
             "outlinewidth": 0,
             "ticks": ""
            },
            "colorscale": [
             [
              0,
              "#0d0887"
             ],
             [
              0.1111111111111111,
              "#46039f"
             ],
             [
              0.2222222222222222,
              "#7201a8"
             ],
             [
              0.3333333333333333,
              "#9c179e"
             ],
             [
              0.4444444444444444,
              "#bd3786"
             ],
             [
              0.5555555555555556,
              "#d8576b"
             ],
             [
              0.6666666666666666,
              "#ed7953"
             ],
             [
              0.7777777777777778,
              "#fb9f3a"
             ],
             [
              0.8888888888888888,
              "#fdca26"
             ],
             [
              1,
              "#f0f921"
             ]
            ],
            "type": "surface"
           }
          ],
          "table": [
           {
            "cells": {
             "fill": {
              "color": "#EBF0F8"
             },
             "line": {
              "color": "white"
             }
            },
            "header": {
             "fill": {
              "color": "#C8D4E3"
             },
             "line": {
              "color": "white"
             }
            },
            "type": "table"
           }
          ]
         },
         "layout": {
          "annotationdefaults": {
           "arrowcolor": "#2a3f5f",
           "arrowhead": 0,
           "arrowwidth": 1
          },
          "colorscale": {
           "diverging": [
            [
             0,
             "#8e0152"
            ],
            [
             0.1,
             "#c51b7d"
            ],
            [
             0.2,
             "#de77ae"
            ],
            [
             0.3,
             "#f1b6da"
            ],
            [
             0.4,
             "#fde0ef"
            ],
            [
             0.5,
             "#f7f7f7"
            ],
            [
             0.6,
             "#e6f5d0"
            ],
            [
             0.7,
             "#b8e186"
            ],
            [
             0.8,
             "#7fbc41"
            ],
            [
             0.9,
             "#4d9221"
            ],
            [
             1,
             "#276419"
            ]
           ],
           "sequential": [
            [
             0,
             "#0d0887"
            ],
            [
             0.1111111111111111,
             "#46039f"
            ],
            [
             0.2222222222222222,
             "#7201a8"
            ],
            [
             0.3333333333333333,
             "#9c179e"
            ],
            [
             0.4444444444444444,
             "#bd3786"
            ],
            [
             0.5555555555555556,
             "#d8576b"
            ],
            [
             0.6666666666666666,
             "#ed7953"
            ],
            [
             0.7777777777777778,
             "#fb9f3a"
            ],
            [
             0.8888888888888888,
             "#fdca26"
            ],
            [
             1,
             "#f0f921"
            ]
           ],
           "sequentialminus": [
            [
             0,
             "#0d0887"
            ],
            [
             0.1111111111111111,
             "#46039f"
            ],
            [
             0.2222222222222222,
             "#7201a8"
            ],
            [
             0.3333333333333333,
             "#9c179e"
            ],
            [
             0.4444444444444444,
             "#bd3786"
            ],
            [
             0.5555555555555556,
             "#d8576b"
            ],
            [
             0.6666666666666666,
             "#ed7953"
            ],
            [
             0.7777777777777778,
             "#fb9f3a"
            ],
            [
             0.8888888888888888,
             "#fdca26"
            ],
            [
             1,
             "#f0f921"
            ]
           ]
          },
          "colorway": [
           "#636efa",
           "#EF553B",
           "#00cc96",
           "#ab63fa",
           "#FFA15A",
           "#19d3f3",
           "#FF6692",
           "#B6E880",
           "#FF97FF",
           "#FECB52"
          ],
          "font": {
           "color": "#2a3f5f"
          },
          "geo": {
           "bgcolor": "white",
           "lakecolor": "white",
           "landcolor": "#E5ECF6",
           "showlakes": true,
           "showland": true,
           "subunitcolor": "white"
          },
          "hoverlabel": {
           "align": "left"
          },
          "hovermode": "closest",
          "mapbox": {
           "style": "light"
          },
          "paper_bgcolor": "white",
          "plot_bgcolor": "#E5ECF6",
          "polar": {
           "angularaxis": {
            "gridcolor": "white",
            "linecolor": "white",
            "ticks": ""
           },
           "bgcolor": "#E5ECF6",
           "radialaxis": {
            "gridcolor": "white",
            "linecolor": "white",
            "ticks": ""
           }
          },
          "scene": {
           "xaxis": {
            "backgroundcolor": "#E5ECF6",
            "gridcolor": "white",
            "gridwidth": 2,
            "linecolor": "white",
            "showbackground": true,
            "ticks": "",
            "zerolinecolor": "white"
           },
           "yaxis": {
            "backgroundcolor": "#E5ECF6",
            "gridcolor": "white",
            "gridwidth": 2,
            "linecolor": "white",
            "showbackground": true,
            "ticks": "",
            "zerolinecolor": "white"
           },
           "zaxis": {
            "backgroundcolor": "#E5ECF6",
            "gridcolor": "white",
            "gridwidth": 2,
            "linecolor": "white",
            "showbackground": true,
            "ticks": "",
            "zerolinecolor": "white"
           }
          },
          "shapedefaults": {
           "line": {
            "color": "#2a3f5f"
           }
          },
          "ternary": {
           "aaxis": {
            "gridcolor": "white",
            "linecolor": "white",
            "ticks": ""
           },
           "baxis": {
            "gridcolor": "white",
            "linecolor": "white",
            "ticks": ""
           },
           "bgcolor": "#E5ECF6",
           "caxis": {
            "gridcolor": "white",
            "linecolor": "white",
            "ticks": ""
           }
          },
          "title": {
           "x": 0.05
          },
          "xaxis": {
           "automargin": true,
           "gridcolor": "white",
           "linecolor": "white",
           "ticks": "",
           "zerolinecolor": "white",
           "zerolinewidth": 2
          },
          "yaxis": {
           "automargin": true,
           "gridcolor": "white",
           "linecolor": "white",
           "ticks": "",
           "zerolinecolor": "white",
           "zerolinewidth": 2
          }
         }
        },
        "title": {
         "text": "Count of "
        },
        "xaxis": {
         "anchor": "y",
         "domain": [
          0,
          0.98
         ],
         "title": {
          "text": "State"
         }
        },
        "yaxis": {
         "anchor": "x",
         "domain": [
          0,
          1
         ],
         "title": {
          "text": "count of Data Value"
         }
        }
       }
      },
      "text/html": [
       "<div>\n",
       "        \n",
       "        \n",
       "            <div id=\"80bf91d8-8c03-4745-83e8-6d8215805393\" class=\"plotly-graph-div\" style=\"height:600px; width:100%;\"></div>\n",
       "            <script type=\"text/javascript\">\n",
       "                require([\"plotly\"], function(Plotly) {\n",
       "                    window.PLOTLYENV=window.PLOTLYENV || {};\n",
       "                    \n",
       "                if (document.getElementById(\"80bf91d8-8c03-4745-83e8-6d8215805393\")) {\n",
       "                    Plotly.newPlot(\n",
       "                        '80bf91d8-8c03-4745-83e8-6d8215805393',\n",
       "                        [{\"alignmentgroup\": \"True\", \"bingroup\": \"x\", \"hoverlabel\": {\"namelength\": 0}, \"hovertemplate\": \"State=%{x}<br>count of Data Value=%{y}\", \"legendgroup\": \"\", \"marker\": {\"color\": \"#636efa\"}, \"name\": \"\", \"offsetgroup\": \"\", \"orientation\": \"v\", \"showlegend\": false, \"type\": \"histogram\", \"x\": [\"AK\", \"AK\", \"AK\", \"AK\", \"AK\", \"AZ\", \"AZ\", \"AZ\", \"CT\", \"CT\", \"CT\", \"CT\", \"CT\", \"DC\", \"DC\", \"DC\", \"DC\", \"DC\", \"DE\", \"DE\", \"GA\", \"GA\", \"GA\", \"GA\", \"GA\", \"HI\", \"HI\", \"HI\", \"HI\", \"IA\", \"IA\", \"IA\", \"IA\", \"IA\", \"IL\", \"IL\", \"IL\", \"IL\", \"IL\", \"KY\", \"KY\", \"MA\", \"MA\", \"MA\", \"MA\", \"MA\", \"MD\", \"MD\", \"MD\", \"MD\", \"MD\", \"ME\", \"ME\", \"ME\", \"ME\", \"ME\", \"NC\", \"NC\", \"NC\", \"NC\", \"NC\", \"NH\", \"NH\", \"NH\", \"NH\", \"NH\", \"NJ\", \"NJ\", \"NM\", \"NM\", \"NM\", \"NM\", \"NM\", \"NV\", \"NV\", \"NV\", \"NV\", \"NV\", \"NY\", \"NY\", \"NY\", \"NY\", \"NY\", \"OH\", \"OH\", \"OH\", \"OH\", \"OH\", \"OK\", \"OK\", \"OK\", \"OK\", \"OK\", \"OR\", \"OR\", \"OR\", \"OR\", \"OR\", \"RI\", \"RI\", \"RI\", \"RI\", \"RI\", \"SC\", \"SC\", \"SC\", \"SC\", \"SC\", \"SD\", \"SD\", \"SD\", \"SD\", \"SD\", \"TN\", \"TN\", \"TN\", \"TN\", \"TN\", \"UT\", \"UT\", \"UT\", \"UT\", \"UT\", \"VA\", \"VA\", \"VA\", \"VA\", \"VA\", \"VT\", \"VT\", \"VT\", \"VT\", \"VT\", \"WA\", \"WA\", \"WA\", \"WA\", \"WA\", \"WI\", \"WI\", \"WI\", \"WI\", \"WI\", \"WV\", \"WV\", \"WV\", \"WV\", \"WV\", \"WY\", \"WY\", \"WY\"], \"xaxis\": \"x\", \"y\": [165, 1163, 1110, 990, 136, 6208, 12331, 2295, 7164, 9528, 11231, 11444, 1918, 1050, 1989, 3454, 2639, 440, 3291, 724, 4421, 10280, 11903, 10995, 1688, 802, 345, 497, 127, 1944, 1730, 2353, 2065, 271, 13319, 20928, 25081, 26834, 4278, 11529, 1977, 1549, 21377, 22936, 23875, 3916, 12081, 17918, 24210, 25792, 4266, 2563, 3222, 3875, 3965, 549, 12645, 16343, 20824, 22001, 3481, 4454, 4758, 5021, 5040, 734, 16729, 5057, 4586, 4218, 4199, 3958, 650, 4916, 5388, 5029, 4950, 823, 15855, 20733, 24694, 22674, 3508, 22895, 38043, 51201, 42480, 6570, 5563, 4996, 5171, 3896, 574, 4065, 3863, 3856, 4242, 670, 2976, 3341, 3448, 3345, 572, 6428, 6862, 8447, 9332, 1659, 146, 165, 482, 354, 50, 8806, 13583, 14969, 15354, 2647, 5333, 6005, 5332, 5539, 867, 9295, 11715, 13957, 14204, 2446, 851, 1078, 1332, 1374, 241, 8296, 8894, 8409, 8902, 1476, 1288, 8474, 10817, 10625, 1658, 7341, 8172, 10024, 9249, 1432, 404, 497, 83], \"yaxis\": \"y\"}],\n",
       "                        {\"barmode\": \"relative\", \"height\": 600, \"legend\": {\"tracegroupgap\": 0}, \"template\": {\"data\": {\"bar\": [{\"error_x\": {\"color\": \"#2a3f5f\"}, \"error_y\": {\"color\": \"#2a3f5f\"}, \"marker\": {\"line\": {\"color\": \"#E5ECF6\", \"width\": 0.5}}, \"type\": \"bar\"}], \"barpolar\": [{\"marker\": {\"line\": {\"color\": \"#E5ECF6\", \"width\": 0.5}}, \"type\": \"barpolar\"}], \"carpet\": [{\"aaxis\": {\"endlinecolor\": \"#2a3f5f\", \"gridcolor\": \"white\", \"linecolor\": \"white\", \"minorgridcolor\": \"white\", \"startlinecolor\": \"#2a3f5f\"}, \"baxis\": {\"endlinecolor\": \"#2a3f5f\", \"gridcolor\": \"white\", \"linecolor\": \"white\", \"minorgridcolor\": \"white\", \"startlinecolor\": \"#2a3f5f\"}, \"type\": \"carpet\"}], \"choropleth\": [{\"colorbar\": {\"outlinewidth\": 0, \"ticks\": \"\"}, \"type\": \"choropleth\"}], \"contour\": [{\"colorbar\": {\"outlinewidth\": 0, \"ticks\": \"\"}, \"colorscale\": [[0.0, \"#0d0887\"], [0.1111111111111111, \"#46039f\"], [0.2222222222222222, \"#7201a8\"], [0.3333333333333333, \"#9c179e\"], [0.4444444444444444, \"#bd3786\"], [0.5555555555555556, \"#d8576b\"], [0.6666666666666666, \"#ed7953\"], [0.7777777777777778, \"#fb9f3a\"], [0.8888888888888888, \"#fdca26\"], [1.0, \"#f0f921\"]], \"type\": \"contour\"}], \"contourcarpet\": [{\"colorbar\": {\"outlinewidth\": 0, \"ticks\": \"\"}, \"type\": \"contourcarpet\"}], \"heatmap\": [{\"colorbar\": {\"outlinewidth\": 0, \"ticks\": \"\"}, \"colorscale\": [[0.0, \"#0d0887\"], [0.1111111111111111, \"#46039f\"], [0.2222222222222222, \"#7201a8\"], [0.3333333333333333, \"#9c179e\"], [0.4444444444444444, \"#bd3786\"], [0.5555555555555556, \"#d8576b\"], [0.6666666666666666, \"#ed7953\"], [0.7777777777777778, \"#fb9f3a\"], [0.8888888888888888, \"#fdca26\"], [1.0, \"#f0f921\"]], \"type\": \"heatmap\"}], \"heatmapgl\": [{\"colorbar\": {\"outlinewidth\": 0, \"ticks\": \"\"}, \"colorscale\": [[0.0, \"#0d0887\"], [0.1111111111111111, \"#46039f\"], [0.2222222222222222, \"#7201a8\"], [0.3333333333333333, \"#9c179e\"], [0.4444444444444444, \"#bd3786\"], [0.5555555555555556, \"#d8576b\"], [0.6666666666666666, \"#ed7953\"], [0.7777777777777778, \"#fb9f3a\"], [0.8888888888888888, \"#fdca26\"], [1.0, \"#f0f921\"]], \"type\": \"heatmapgl\"}], \"histogram\": [{\"marker\": {\"colorbar\": {\"outlinewidth\": 0, \"ticks\": \"\"}}, \"type\": \"histogram\"}], \"histogram2d\": [{\"colorbar\": {\"outlinewidth\": 0, \"ticks\": \"\"}, \"colorscale\": [[0.0, \"#0d0887\"], [0.1111111111111111, \"#46039f\"], [0.2222222222222222, \"#7201a8\"], [0.3333333333333333, \"#9c179e\"], [0.4444444444444444, \"#bd3786\"], [0.5555555555555556, \"#d8576b\"], [0.6666666666666666, \"#ed7953\"], [0.7777777777777778, \"#fb9f3a\"], [0.8888888888888888, \"#fdca26\"], [1.0, \"#f0f921\"]], \"type\": \"histogram2d\"}], \"histogram2dcontour\": [{\"colorbar\": {\"outlinewidth\": 0, \"ticks\": \"\"}, \"colorscale\": [[0.0, \"#0d0887\"], [0.1111111111111111, \"#46039f\"], [0.2222222222222222, \"#7201a8\"], [0.3333333333333333, \"#9c179e\"], [0.4444444444444444, \"#bd3786\"], [0.5555555555555556, \"#d8576b\"], [0.6666666666666666, \"#ed7953\"], [0.7777777777777778, \"#fb9f3a\"], [0.8888888888888888, \"#fdca26\"], [1.0, \"#f0f921\"]], \"type\": \"histogram2dcontour\"}], \"mesh3d\": [{\"colorbar\": {\"outlinewidth\": 0, \"ticks\": \"\"}, \"type\": \"mesh3d\"}], \"parcoords\": [{\"line\": {\"colorbar\": {\"outlinewidth\": 0, \"ticks\": \"\"}}, \"type\": \"parcoords\"}], \"scatter\": [{\"marker\": {\"colorbar\": {\"outlinewidth\": 0, \"ticks\": \"\"}}, \"type\": \"scatter\"}], \"scatter3d\": [{\"line\": {\"colorbar\": {\"outlinewidth\": 0, \"ticks\": \"\"}}, \"marker\": {\"colorbar\": {\"outlinewidth\": 0, \"ticks\": \"\"}}, \"type\": \"scatter3d\"}], \"scattercarpet\": [{\"marker\": {\"colorbar\": {\"outlinewidth\": 0, \"ticks\": \"\"}}, \"type\": \"scattercarpet\"}], \"scattergeo\": [{\"marker\": {\"colorbar\": {\"outlinewidth\": 0, \"ticks\": \"\"}}, \"type\": \"scattergeo\"}], \"scattergl\": [{\"marker\": {\"colorbar\": {\"outlinewidth\": 0, \"ticks\": \"\"}}, \"type\": \"scattergl\"}], \"scattermapbox\": [{\"marker\": {\"colorbar\": {\"outlinewidth\": 0, \"ticks\": \"\"}}, \"type\": \"scattermapbox\"}], \"scatterpolar\": [{\"marker\": {\"colorbar\": {\"outlinewidth\": 0, \"ticks\": \"\"}}, \"type\": \"scatterpolar\"}], \"scatterpolargl\": [{\"marker\": {\"colorbar\": {\"outlinewidth\": 0, \"ticks\": \"\"}}, \"type\": \"scatterpolargl\"}], \"scatterternary\": [{\"marker\": {\"colorbar\": {\"outlinewidth\": 0, \"ticks\": \"\"}}, \"type\": \"scatterternary\"}], \"surface\": [{\"colorbar\": {\"outlinewidth\": 0, \"ticks\": \"\"}, \"colorscale\": [[0.0, \"#0d0887\"], [0.1111111111111111, \"#46039f\"], [0.2222222222222222, \"#7201a8\"], [0.3333333333333333, \"#9c179e\"], [0.4444444444444444, \"#bd3786\"], [0.5555555555555556, \"#d8576b\"], [0.6666666666666666, \"#ed7953\"], [0.7777777777777778, \"#fb9f3a\"], [0.8888888888888888, \"#fdca26\"], [1.0, \"#f0f921\"]], \"type\": \"surface\"}], \"table\": [{\"cells\": {\"fill\": {\"color\": \"#EBF0F8\"}, \"line\": {\"color\": \"white\"}}, \"header\": {\"fill\": {\"color\": \"#C8D4E3\"}, \"line\": {\"color\": \"white\"}}, \"type\": \"table\"}]}, \"layout\": {\"annotationdefaults\": {\"arrowcolor\": \"#2a3f5f\", \"arrowhead\": 0, \"arrowwidth\": 1}, \"colorscale\": {\"diverging\": [[0, \"#8e0152\"], [0.1, \"#c51b7d\"], [0.2, \"#de77ae\"], [0.3, \"#f1b6da\"], [0.4, \"#fde0ef\"], [0.5, \"#f7f7f7\"], [0.6, \"#e6f5d0\"], [0.7, \"#b8e186\"], [0.8, \"#7fbc41\"], [0.9, \"#4d9221\"], [1, \"#276419\"]], \"sequential\": [[0.0, \"#0d0887\"], [0.1111111111111111, \"#46039f\"], [0.2222222222222222, \"#7201a8\"], [0.3333333333333333, \"#9c179e\"], [0.4444444444444444, \"#bd3786\"], [0.5555555555555556, \"#d8576b\"], [0.6666666666666666, \"#ed7953\"], [0.7777777777777778, \"#fb9f3a\"], [0.8888888888888888, \"#fdca26\"], [1.0, \"#f0f921\"]], \"sequentialminus\": [[0.0, \"#0d0887\"], [0.1111111111111111, \"#46039f\"], [0.2222222222222222, \"#7201a8\"], [0.3333333333333333, \"#9c179e\"], [0.4444444444444444, \"#bd3786\"], [0.5555555555555556, \"#d8576b\"], [0.6666666666666666, \"#ed7953\"], [0.7777777777777778, \"#fb9f3a\"], [0.8888888888888888, \"#fdca26\"], [1.0, \"#f0f921\"]]}, \"colorway\": [\"#636efa\", \"#EF553B\", \"#00cc96\", \"#ab63fa\", \"#FFA15A\", \"#19d3f3\", \"#FF6692\", \"#B6E880\", \"#FF97FF\", \"#FECB52\"], \"font\": {\"color\": \"#2a3f5f\"}, \"geo\": {\"bgcolor\": \"white\", \"lakecolor\": \"white\", \"landcolor\": \"#E5ECF6\", \"showlakes\": true, \"showland\": true, \"subunitcolor\": \"white\"}, \"hoverlabel\": {\"align\": \"left\"}, \"hovermode\": \"closest\", \"mapbox\": {\"style\": \"light\"}, \"paper_bgcolor\": \"white\", \"plot_bgcolor\": \"#E5ECF6\", \"polar\": {\"angularaxis\": {\"gridcolor\": \"white\", \"linecolor\": \"white\", \"ticks\": \"\"}, \"bgcolor\": \"#E5ECF6\", \"radialaxis\": {\"gridcolor\": \"white\", \"linecolor\": \"white\", \"ticks\": \"\"}}, \"scene\": {\"xaxis\": {\"backgroundcolor\": \"#E5ECF6\", \"gridcolor\": \"white\", \"gridwidth\": 2, \"linecolor\": \"white\", \"showbackground\": true, \"ticks\": \"\", \"zerolinecolor\": \"white\"}, \"yaxis\": {\"backgroundcolor\": \"#E5ECF6\", \"gridcolor\": \"white\", \"gridwidth\": 2, \"linecolor\": \"white\", \"showbackground\": true, \"ticks\": \"\", \"zerolinecolor\": \"white\"}, \"zaxis\": {\"backgroundcolor\": \"#E5ECF6\", \"gridcolor\": \"white\", \"gridwidth\": 2, \"linecolor\": \"white\", \"showbackground\": true, \"ticks\": \"\", \"zerolinecolor\": \"white\"}}, \"shapedefaults\": {\"line\": {\"color\": \"#2a3f5f\"}}, \"ternary\": {\"aaxis\": {\"gridcolor\": \"white\", \"linecolor\": \"white\", \"ticks\": \"\"}, \"baxis\": {\"gridcolor\": \"white\", \"linecolor\": \"white\", \"ticks\": \"\"}, \"bgcolor\": \"#E5ECF6\", \"caxis\": {\"gridcolor\": \"white\", \"linecolor\": \"white\", \"ticks\": \"\"}}, \"title\": {\"x\": 0.05}, \"xaxis\": {\"automargin\": true, \"gridcolor\": \"white\", \"linecolor\": \"white\", \"ticks\": \"\", \"zerolinecolor\": \"white\", \"zerolinewidth\": 2}, \"yaxis\": {\"automargin\": true, \"gridcolor\": \"white\", \"linecolor\": \"white\", \"ticks\": \"\", \"zerolinecolor\": \"white\", \"zerolinewidth\": 2}}}, \"title\": {\"text\": \"Count of \"}, \"xaxis\": {\"anchor\": \"y\", \"domain\": [0.0, 0.98], \"title\": {\"text\": \"State\"}}, \"yaxis\": {\"anchor\": \"x\", \"domain\": [0.0, 1.0], \"title\": {\"text\": \"count of Data Value\"}}},\n",
       "                        {\"responsive\": true}\n",
       "                    ).then(function(){\n",
       "                            \n",
       "var gd = document.getElementById('80bf91d8-8c03-4745-83e8-6d8215805393');\n",
       "var x = new MutationObserver(function (mutations, observer) {{\n",
       "        var display = window.getComputedStyle(gd).display;\n",
       "        if (!display || display === 'none') {{\n",
       "            console.log([gd, 'removed!']);\n",
       "            Plotly.purge(gd);\n",
       "            observer.disconnect();\n",
       "        }}\n",
       "}});\n",
       "\n",
       "// Listen for the removal of the full notebook cells\n",
       "var notebookContainer = gd.closest('#notebook-container');\n",
       "if (notebookContainer) {{\n",
       "    x.observe(notebookContainer, {childList: true});\n",
       "}}\n",
       "\n",
       "// Listen for the clearing of the current output cell\n",
       "var outputEl = gd.closest('.output');\n",
       "if (outputEl) {{\n",
       "    x.observe(outputEl, {childList: true});\n",
       "}}\n",
       "\n",
       "                        })\n",
       "                };\n",
       "                });\n",
       "            </script>\n",
       "        </div>"
      ]
     },
     "metadata": {},
     "output_type": "display_data"
    }
   ],
   "source": [
    "fig = px.histogram(df, x=\"State\", y= \"Data Value\", title=\"Count of \")\n",
    "fig.show()"
   ]
  },
  {
   "cell_type": "code",
   "execution_count": 33,
   "metadata": {},
   "outputs": [],
   "source": [
    "file = \"Data\\VSRR_Provisional_Drug_Overdose_Death_Counts.csv\""
   ]
  },
  {
   "cell_type": "code",
   "execution_count": 34,
   "metadata": {},
   "outputs": [
    {
     "data": {
      "text/html": [
       "<div>\n",
       "<style scoped>\n",
       "    .dataframe tbody tr th:only-of-type {\n",
       "        vertical-align: middle;\n",
       "    }\n",
       "\n",
       "    .dataframe tbody tr th {\n",
       "        vertical-align: top;\n",
       "    }\n",
       "\n",
       "    .dataframe thead th {\n",
       "        text-align: right;\n",
       "    }\n",
       "</style>\n",
       "<table border=\"1\" class=\"dataframe\">\n",
       "  <thead>\n",
       "    <tr style=\"text-align: right;\">\n",
       "      <th></th>\n",
       "      <th>State</th>\n",
       "      <th>Year</th>\n",
       "      <th>Month</th>\n",
       "      <th>Period</th>\n",
       "      <th>Indicator</th>\n",
       "      <th>Data Value</th>\n",
       "      <th>Percent Complete</th>\n",
       "      <th>Percent Pending Investigation</th>\n",
       "      <th>State Name</th>\n",
       "      <th>Footnote</th>\n",
       "      <th>Footnote Symbol</th>\n",
       "      <th>Predicted Value</th>\n",
       "    </tr>\n",
       "  </thead>\n",
       "  <tbody>\n",
       "    <tr>\n",
       "      <th>0</th>\n",
       "      <td>AK</td>\n",
       "      <td>2015</td>\n",
       "      <td>April</td>\n",
       "      <td>12 month-ending</td>\n",
       "      <td>Natural &amp; semi-synthetic opioids (T40.2)</td>\n",
       "      <td>NaN</td>\n",
       "      <td>100</td>\n",
       "      <td>0.000000</td>\n",
       "      <td>Alaska</td>\n",
       "      <td>Numbers may differ from published reports usin...</td>\n",
       "      <td>**</td>\n",
       "      <td>NaN</td>\n",
       "    </tr>\n",
       "    <tr>\n",
       "      <th>1</th>\n",
       "      <td>AK</td>\n",
       "      <td>2015</td>\n",
       "      <td>April</td>\n",
       "      <td>12 month-ending</td>\n",
       "      <td>Methadone (T40.3)</td>\n",
       "      <td>NaN</td>\n",
       "      <td>100</td>\n",
       "      <td>0.000000</td>\n",
       "      <td>Alaska</td>\n",
       "      <td>Numbers may differ from published reports usin...</td>\n",
       "      <td>**</td>\n",
       "      <td>NaN</td>\n",
       "    </tr>\n",
       "    <tr>\n",
       "      <th>2</th>\n",
       "      <td>AK</td>\n",
       "      <td>2015</td>\n",
       "      <td>April</td>\n",
       "      <td>12 month-ending</td>\n",
       "      <td>Cocaine (T40.5)</td>\n",
       "      <td>NaN</td>\n",
       "      <td>100</td>\n",
       "      <td>0.000000</td>\n",
       "      <td>Alaska</td>\n",
       "      <td>Numbers may differ from published reports usin...</td>\n",
       "      <td>**</td>\n",
       "      <td>NaN</td>\n",
       "    </tr>\n",
       "    <tr>\n",
       "      <th>3</th>\n",
       "      <td>AK</td>\n",
       "      <td>2015</td>\n",
       "      <td>April</td>\n",
       "      <td>12 month-ending</td>\n",
       "      <td>Heroin (T40.1)</td>\n",
       "      <td>NaN</td>\n",
       "      <td>100</td>\n",
       "      <td>0.000000</td>\n",
       "      <td>Alaska</td>\n",
       "      <td>Numbers may differ from published reports usin...</td>\n",
       "      <td>**</td>\n",
       "      <td>NaN</td>\n",
       "    </tr>\n",
       "    <tr>\n",
       "      <th>4</th>\n",
       "      <td>AK</td>\n",
       "      <td>2015</td>\n",
       "      <td>April</td>\n",
       "      <td>12 month-ending</td>\n",
       "      <td>Opioids (T40.0-T40.4|T40.6)</td>\n",
       "      <td>NaN</td>\n",
       "      <td>100</td>\n",
       "      <td>0.000000</td>\n",
       "      <td>Alaska</td>\n",
       "      <td>Numbers may differ from published reports usin...</td>\n",
       "      <td>**</td>\n",
       "      <td>NaN</td>\n",
       "    </tr>\n",
       "    <tr>\n",
       "      <th>5</th>\n",
       "      <td>AK</td>\n",
       "      <td>2015</td>\n",
       "      <td>April</td>\n",
       "      <td>12 month-ending</td>\n",
       "      <td>Psychostimulants with abuse potential (T43.6)</td>\n",
       "      <td>NaN</td>\n",
       "      <td>100</td>\n",
       "      <td>0.000000</td>\n",
       "      <td>Alaska</td>\n",
       "      <td>Numbers may differ from published reports usin...</td>\n",
       "      <td>**</td>\n",
       "      <td>NaN</td>\n",
       "    </tr>\n",
       "    <tr>\n",
       "      <th>6</th>\n",
       "      <td>AK</td>\n",
       "      <td>2015</td>\n",
       "      <td>April</td>\n",
       "      <td>12 month-ending</td>\n",
       "      <td>Natural &amp; semi-synthetic opioids| incl. methad...</td>\n",
       "      <td>NaN</td>\n",
       "      <td>100</td>\n",
       "      <td>0.000000</td>\n",
       "      <td>Alaska</td>\n",
       "      <td>Numbers may differ from published reports usin...</td>\n",
       "      <td>**</td>\n",
       "      <td>NaN</td>\n",
       "    </tr>\n",
       "    <tr>\n",
       "      <th>7</th>\n",
       "      <td>AK</td>\n",
       "      <td>2015</td>\n",
       "      <td>April</td>\n",
       "      <td>12 month-ending</td>\n",
       "      <td>Natural| semi-synthetic| &amp; synthetic opioids| ...</td>\n",
       "      <td>NaN</td>\n",
       "      <td>100</td>\n",
       "      <td>0.000000</td>\n",
       "      <td>Alaska</td>\n",
       "      <td>Numbers may differ from published reports usin...</td>\n",
       "      <td>**</td>\n",
       "      <td>NaN</td>\n",
       "    </tr>\n",
       "    <tr>\n",
       "      <th>8</th>\n",
       "      <td>AK</td>\n",
       "      <td>2015</td>\n",
       "      <td>April</td>\n",
       "      <td>12 month-ending</td>\n",
       "      <td>Number of Deaths</td>\n",
       "      <td>4,133</td>\n",
       "      <td>100</td>\n",
       "      <td>0.000000</td>\n",
       "      <td>Alaska</td>\n",
       "      <td>Numbers may differ from published reports usin...</td>\n",
       "      <td>**</td>\n",
       "      <td>NaN</td>\n",
       "    </tr>\n",
       "    <tr>\n",
       "      <th>9</th>\n",
       "      <td>AK</td>\n",
       "      <td>2015</td>\n",
       "      <td>April</td>\n",
       "      <td>12 month-ending</td>\n",
       "      <td>Percent with drugs specified</td>\n",
       "      <td>88.0952381</td>\n",
       "      <td>100</td>\n",
       "      <td>0.000000</td>\n",
       "      <td>Alaska</td>\n",
       "      <td>Numbers may differ from published reports usin...</td>\n",
       "      <td>**</td>\n",
       "      <td>NaN</td>\n",
       "    </tr>\n",
       "    <tr>\n",
       "      <th>10</th>\n",
       "      <td>AK</td>\n",
       "      <td>2015</td>\n",
       "      <td>April</td>\n",
       "      <td>12 month-ending</td>\n",
       "      <td>Number of Drug Overdose Deaths</td>\n",
       "      <td>126</td>\n",
       "      <td>100</td>\n",
       "      <td>0.000000</td>\n",
       "      <td>Alaska</td>\n",
       "      <td>Numbers may differ from published reports usin...</td>\n",
       "      <td>**</td>\n",
       "      <td>127</td>\n",
       "    </tr>\n",
       "    <tr>\n",
       "      <th>11</th>\n",
       "      <td>AK</td>\n",
       "      <td>2015</td>\n",
       "      <td>April</td>\n",
       "      <td>12 month-ending</td>\n",
       "      <td>Synthetic opioids| excl. methadone (T40.4)</td>\n",
       "      <td>NaN</td>\n",
       "      <td>100</td>\n",
       "      <td>0.000000</td>\n",
       "      <td>Alaska</td>\n",
       "      <td>Numbers may differ from published reports usin...</td>\n",
       "      <td>**</td>\n",
       "      <td>NaN</td>\n",
       "    </tr>\n",
       "    <tr>\n",
       "      <th>12</th>\n",
       "      <td>AK</td>\n",
       "      <td>2015</td>\n",
       "      <td>August</td>\n",
       "      <td>12 month-ending</td>\n",
       "      <td>Psychostimulants with abuse potential (T43.6)</td>\n",
       "      <td>NaN</td>\n",
       "      <td>100</td>\n",
       "      <td>0.000000</td>\n",
       "      <td>Alaska</td>\n",
       "      <td>Numbers may differ from published reports usin...</td>\n",
       "      <td>**</td>\n",
       "      <td>NaN</td>\n",
       "    </tr>\n",
       "    <tr>\n",
       "      <th>13</th>\n",
       "      <td>AK</td>\n",
       "      <td>2015</td>\n",
       "      <td>August</td>\n",
       "      <td>12 month-ending</td>\n",
       "      <td>Cocaine (T40.5)</td>\n",
       "      <td>NaN</td>\n",
       "      <td>100</td>\n",
       "      <td>0.000000</td>\n",
       "      <td>Alaska</td>\n",
       "      <td>Numbers may differ from published reports usin...</td>\n",
       "      <td>**</td>\n",
       "      <td>NaN</td>\n",
       "    </tr>\n",
       "    <tr>\n",
       "      <th>14</th>\n",
       "      <td>AK</td>\n",
       "      <td>2015</td>\n",
       "      <td>August</td>\n",
       "      <td>12 month-ending</td>\n",
       "      <td>Synthetic opioids| excl. methadone (T40.4)</td>\n",
       "      <td>NaN</td>\n",
       "      <td>100</td>\n",
       "      <td>0.000000</td>\n",
       "      <td>Alaska</td>\n",
       "      <td>Numbers may differ from published reports usin...</td>\n",
       "      <td>**</td>\n",
       "      <td>NaN</td>\n",
       "    </tr>\n",
       "    <tr>\n",
       "      <th>15</th>\n",
       "      <td>AK</td>\n",
       "      <td>2015</td>\n",
       "      <td>August</td>\n",
       "      <td>12 month-ending</td>\n",
       "      <td>Heroin (T40.1)</td>\n",
       "      <td>NaN</td>\n",
       "      <td>100</td>\n",
       "      <td>0.000000</td>\n",
       "      <td>Alaska</td>\n",
       "      <td>Numbers may differ from published reports usin...</td>\n",
       "      <td>**</td>\n",
       "      <td>NaN</td>\n",
       "    </tr>\n",
       "    <tr>\n",
       "      <th>16</th>\n",
       "      <td>AK</td>\n",
       "      <td>2015</td>\n",
       "      <td>August</td>\n",
       "      <td>12 month-ending</td>\n",
       "      <td>Methadone (T40.3)</td>\n",
       "      <td>NaN</td>\n",
       "      <td>100</td>\n",
       "      <td>0.000000</td>\n",
       "      <td>Alaska</td>\n",
       "      <td>Numbers may differ from published reports usin...</td>\n",
       "      <td>**</td>\n",
       "      <td>NaN</td>\n",
       "    </tr>\n",
       "    <tr>\n",
       "      <th>17</th>\n",
       "      <td>AK</td>\n",
       "      <td>2015</td>\n",
       "      <td>August</td>\n",
       "      <td>12 month-ending</td>\n",
       "      <td>Percent with drugs specified</td>\n",
       "      <td>87.90322581</td>\n",
       "      <td>100</td>\n",
       "      <td>0.000000</td>\n",
       "      <td>Alaska</td>\n",
       "      <td>Numbers may differ from published reports usin...</td>\n",
       "      <td>**</td>\n",
       "      <td>NaN</td>\n",
       "    </tr>\n",
       "    <tr>\n",
       "      <th>18</th>\n",
       "      <td>AK</td>\n",
       "      <td>2015</td>\n",
       "      <td>August</td>\n",
       "      <td>12 month-ending</td>\n",
       "      <td>Natural &amp; semi-synthetic opioids (T40.2)</td>\n",
       "      <td>NaN</td>\n",
       "      <td>100</td>\n",
       "      <td>0.000000</td>\n",
       "      <td>Alaska</td>\n",
       "      <td>Numbers may differ from published reports usin...</td>\n",
       "      <td>**</td>\n",
       "      <td>NaN</td>\n",
       "    </tr>\n",
       "    <tr>\n",
       "      <th>19</th>\n",
       "      <td>AK</td>\n",
       "      <td>2015</td>\n",
       "      <td>August</td>\n",
       "      <td>12 month-ending</td>\n",
       "      <td>Number of Drug Overdose Deaths</td>\n",
       "      <td>124</td>\n",
       "      <td>100</td>\n",
       "      <td>0.000000</td>\n",
       "      <td>Alaska</td>\n",
       "      <td>Numbers may differ from published reports usin...</td>\n",
       "      <td>**</td>\n",
       "      <td>125</td>\n",
       "    </tr>\n",
       "    <tr>\n",
       "      <th>20</th>\n",
       "      <td>AK</td>\n",
       "      <td>2015</td>\n",
       "      <td>August</td>\n",
       "      <td>12 month-ending</td>\n",
       "      <td>Natural| semi-synthetic| &amp; synthetic opioids| ...</td>\n",
       "      <td>NaN</td>\n",
       "      <td>100</td>\n",
       "      <td>0.000000</td>\n",
       "      <td>Alaska</td>\n",
       "      <td>Numbers may differ from published reports usin...</td>\n",
       "      <td>**</td>\n",
       "      <td>NaN</td>\n",
       "    </tr>\n",
       "    <tr>\n",
       "      <th>21</th>\n",
       "      <td>AK</td>\n",
       "      <td>2015</td>\n",
       "      <td>August</td>\n",
       "      <td>12 month-ending</td>\n",
       "      <td>Number of Deaths</td>\n",
       "      <td>4,222</td>\n",
       "      <td>100</td>\n",
       "      <td>0.000000</td>\n",
       "      <td>Alaska</td>\n",
       "      <td>Numbers may differ from published reports usin...</td>\n",
       "      <td>**</td>\n",
       "      <td>NaN</td>\n",
       "    </tr>\n",
       "    <tr>\n",
       "      <th>22</th>\n",
       "      <td>AK</td>\n",
       "      <td>2015</td>\n",
       "      <td>August</td>\n",
       "      <td>12 month-ending</td>\n",
       "      <td>Opioids (T40.0-T40.4|T40.6)</td>\n",
       "      <td>NaN</td>\n",
       "      <td>100</td>\n",
       "      <td>0.000000</td>\n",
       "      <td>Alaska</td>\n",
       "      <td>Numbers may differ from published reports usin...</td>\n",
       "      <td>**</td>\n",
       "      <td>NaN</td>\n",
       "    </tr>\n",
       "    <tr>\n",
       "      <th>23</th>\n",
       "      <td>AK</td>\n",
       "      <td>2015</td>\n",
       "      <td>August</td>\n",
       "      <td>12 month-ending</td>\n",
       "      <td>Natural &amp; semi-synthetic opioids| incl. methad...</td>\n",
       "      <td>NaN</td>\n",
       "      <td>100</td>\n",
       "      <td>0.000000</td>\n",
       "      <td>Alaska</td>\n",
       "      <td>Numbers may differ from published reports usin...</td>\n",
       "      <td>**</td>\n",
       "      <td>NaN</td>\n",
       "    </tr>\n",
       "    <tr>\n",
       "      <th>24</th>\n",
       "      <td>AK</td>\n",
       "      <td>2015</td>\n",
       "      <td>December</td>\n",
       "      <td>12 month-ending</td>\n",
       "      <td>Natural &amp; semi-synthetic opioids (T40.2)</td>\n",
       "      <td>NaN</td>\n",
       "      <td>100</td>\n",
       "      <td>0.000000</td>\n",
       "      <td>Alaska</td>\n",
       "      <td>Numbers may differ from published reports usin...</td>\n",
       "      <td>**</td>\n",
       "      <td>NaN</td>\n",
       "    </tr>\n",
       "    <tr>\n",
       "      <th>25</th>\n",
       "      <td>AK</td>\n",
       "      <td>2015</td>\n",
       "      <td>December</td>\n",
       "      <td>12 month-ending</td>\n",
       "      <td>Number of Deaths</td>\n",
       "      <td>4,193</td>\n",
       "      <td>100</td>\n",
       "      <td>0.000000</td>\n",
       "      <td>Alaska</td>\n",
       "      <td>Numbers may differ from published reports usin...</td>\n",
       "      <td>**</td>\n",
       "      <td>NaN</td>\n",
       "    </tr>\n",
       "    <tr>\n",
       "      <th>26</th>\n",
       "      <td>AK</td>\n",
       "      <td>2015</td>\n",
       "      <td>December</td>\n",
       "      <td>12 month-ending</td>\n",
       "      <td>Synthetic opioids| excl. methadone (T40.4)</td>\n",
       "      <td>NaN</td>\n",
       "      <td>100</td>\n",
       "      <td>0.000000</td>\n",
       "      <td>Alaska</td>\n",
       "      <td>Numbers may differ from published reports usin...</td>\n",
       "      <td>**</td>\n",
       "      <td>NaN</td>\n",
       "    </tr>\n",
       "    <tr>\n",
       "      <th>27</th>\n",
       "      <td>AK</td>\n",
       "      <td>2015</td>\n",
       "      <td>December</td>\n",
       "      <td>12 month-ending</td>\n",
       "      <td>Heroin (T40.1)</td>\n",
       "      <td>NaN</td>\n",
       "      <td>100</td>\n",
       "      <td>0.000000</td>\n",
       "      <td>Alaska</td>\n",
       "      <td>Numbers may differ from published reports usin...</td>\n",
       "      <td>**</td>\n",
       "      <td>NaN</td>\n",
       "    </tr>\n",
       "    <tr>\n",
       "      <th>28</th>\n",
       "      <td>AK</td>\n",
       "      <td>2015</td>\n",
       "      <td>December</td>\n",
       "      <td>12 month-ending</td>\n",
       "      <td>Methadone (T40.3)</td>\n",
       "      <td>NaN</td>\n",
       "      <td>100</td>\n",
       "      <td>0.000000</td>\n",
       "      <td>Alaska</td>\n",
       "      <td>Numbers may differ from published reports usin...</td>\n",
       "      <td>**</td>\n",
       "      <td>NaN</td>\n",
       "    </tr>\n",
       "    <tr>\n",
       "      <th>29</th>\n",
       "      <td>AK</td>\n",
       "      <td>2015</td>\n",
       "      <td>December</td>\n",
       "      <td>12 month-ending</td>\n",
       "      <td>Psychostimulants with abuse potential (T43.6)</td>\n",
       "      <td>NaN</td>\n",
       "      <td>100</td>\n",
       "      <td>0.000000</td>\n",
       "      <td>Alaska</td>\n",
       "      <td>Numbers may differ from published reports usin...</td>\n",
       "      <td>**</td>\n",
       "      <td>NaN</td>\n",
       "    </tr>\n",
       "    <tr>\n",
       "      <th>...</th>\n",
       "      <td>...</td>\n",
       "      <td>...</td>\n",
       "      <td>...</td>\n",
       "      <td>...</td>\n",
       "      <td>...</td>\n",
       "      <td>...</td>\n",
       "      <td>...</td>\n",
       "      <td>...</td>\n",
       "      <td>...</td>\n",
       "      <td>...</td>\n",
       "      <td>...</td>\n",
       "      <td>...</td>\n",
       "    </tr>\n",
       "    <tr>\n",
       "      <th>22470</th>\n",
       "      <td>WY</td>\n",
       "      <td>2018</td>\n",
       "      <td>September</td>\n",
       "      <td>12 month-ending</td>\n",
       "      <td>Percent with drugs specified</td>\n",
       "      <td>100</td>\n",
       "      <td>100</td>\n",
       "      <td>0.021920</td>\n",
       "      <td>Wyoming</td>\n",
       "      <td>Underreported due to incomplete data.</td>\n",
       "      <td>*</td>\n",
       "      <td>NaN</td>\n",
       "    </tr>\n",
       "    <tr>\n",
       "      <th>22471</th>\n",
       "      <td>WY</td>\n",
       "      <td>2018</td>\n",
       "      <td>September</td>\n",
       "      <td>12 month-ending</td>\n",
       "      <td>Natural &amp; semi-synthetic opioids| incl. methad...</td>\n",
       "      <td>32</td>\n",
       "      <td>100</td>\n",
       "      <td>0.021920</td>\n",
       "      <td>Wyoming</td>\n",
       "      <td>Underreported due to incomplete data.</td>\n",
       "      <td>*</td>\n",
       "      <td>33</td>\n",
       "    </tr>\n",
       "    <tr>\n",
       "      <th>22472</th>\n",
       "      <td>WY</td>\n",
       "      <td>2018</td>\n",
       "      <td>September</td>\n",
       "      <td>12 month-ending</td>\n",
       "      <td>Natural| semi-synthetic| &amp; synthetic opioids| ...</td>\n",
       "      <td>41</td>\n",
       "      <td>100</td>\n",
       "      <td>0.021920</td>\n",
       "      <td>Wyoming</td>\n",
       "      <td>Underreported due to incomplete data.</td>\n",
       "      <td>*</td>\n",
       "      <td>42</td>\n",
       "    </tr>\n",
       "    <tr>\n",
       "      <th>22473</th>\n",
       "      <td>WY</td>\n",
       "      <td>2018</td>\n",
       "      <td>September</td>\n",
       "      <td>12 month-ending</td>\n",
       "      <td>Heroin (T40.1)</td>\n",
       "      <td>NaN</td>\n",
       "      <td>100</td>\n",
       "      <td>0.021920</td>\n",
       "      <td>Wyoming</td>\n",
       "      <td>Underreported due to incomplete data.  Data su...</td>\n",
       "      <td>*</td>\n",
       "      <td>NaN</td>\n",
       "    </tr>\n",
       "    <tr>\n",
       "      <th>22474</th>\n",
       "      <td>WY</td>\n",
       "      <td>2018</td>\n",
       "      <td>September</td>\n",
       "      <td>12 month-ending</td>\n",
       "      <td>Opioids (T40.0-T40.4|T40.6)</td>\n",
       "      <td>46</td>\n",
       "      <td>100</td>\n",
       "      <td>0.021920</td>\n",
       "      <td>Wyoming</td>\n",
       "      <td>Underreported due to incomplete data.</td>\n",
       "      <td>*</td>\n",
       "      <td>47</td>\n",
       "    </tr>\n",
       "    <tr>\n",
       "      <th>22475</th>\n",
       "      <td>WY</td>\n",
       "      <td>2018</td>\n",
       "      <td>September</td>\n",
       "      <td>12 month-ending</td>\n",
       "      <td>Synthetic opioids| excl. methadone (T40.4)</td>\n",
       "      <td>13</td>\n",
       "      <td>100</td>\n",
       "      <td>0.021920</td>\n",
       "      <td>Wyoming</td>\n",
       "      <td>Underreported due to incomplete data.</td>\n",
       "      <td>*</td>\n",
       "      <td>14</td>\n",
       "    </tr>\n",
       "    <tr>\n",
       "      <th>22476</th>\n",
       "      <td>WY</td>\n",
       "      <td>2019</td>\n",
       "      <td>February</td>\n",
       "      <td>12 month-ending</td>\n",
       "      <td>Natural &amp; semi-synthetic opioids (T40.2)</td>\n",
       "      <td>29</td>\n",
       "      <td>100</td>\n",
       "      <td>0.064823</td>\n",
       "      <td>Wyoming</td>\n",
       "      <td>Underreported due to incomplete data.</td>\n",
       "      <td>*</td>\n",
       "      <td>30</td>\n",
       "    </tr>\n",
       "    <tr>\n",
       "      <th>22477</th>\n",
       "      <td>WY</td>\n",
       "      <td>2019</td>\n",
       "      <td>February</td>\n",
       "      <td>12 month-ending</td>\n",
       "      <td>Natural &amp; semi-synthetic opioids| incl. methad...</td>\n",
       "      <td>30</td>\n",
       "      <td>100</td>\n",
       "      <td>0.064823</td>\n",
       "      <td>Wyoming</td>\n",
       "      <td>Underreported due to incomplete data.</td>\n",
       "      <td>*</td>\n",
       "      <td>31</td>\n",
       "    </tr>\n",
       "    <tr>\n",
       "      <th>22478</th>\n",
       "      <td>WY</td>\n",
       "      <td>2019</td>\n",
       "      <td>February</td>\n",
       "      <td>12 month-ending</td>\n",
       "      <td>Psychostimulants with abuse potential (T43.6)</td>\n",
       "      <td>15</td>\n",
       "      <td>100</td>\n",
       "      <td>0.064823</td>\n",
       "      <td>Wyoming</td>\n",
       "      <td>Underreported due to incomplete data.</td>\n",
       "      <td>*</td>\n",
       "      <td>16</td>\n",
       "    </tr>\n",
       "    <tr>\n",
       "      <th>22479</th>\n",
       "      <td>WY</td>\n",
       "      <td>2019</td>\n",
       "      <td>February</td>\n",
       "      <td>12 month-ending</td>\n",
       "      <td>Cocaine (T40.5)</td>\n",
       "      <td>NaN</td>\n",
       "      <td>100</td>\n",
       "      <td>0.064823</td>\n",
       "      <td>Wyoming</td>\n",
       "      <td>Underreported due to incomplete data.  Data su...</td>\n",
       "      <td>*</td>\n",
       "      <td>NaN</td>\n",
       "    </tr>\n",
       "    <tr>\n",
       "      <th>22480</th>\n",
       "      <td>WY</td>\n",
       "      <td>2019</td>\n",
       "      <td>February</td>\n",
       "      <td>12 month-ending</td>\n",
       "      <td>Percent with drugs specified</td>\n",
       "      <td>98.30508475</td>\n",
       "      <td>100</td>\n",
       "      <td>0.064823</td>\n",
       "      <td>Wyoming</td>\n",
       "      <td>Underreported due to incomplete data.</td>\n",
       "      <td>*</td>\n",
       "      <td>NaN</td>\n",
       "    </tr>\n",
       "    <tr>\n",
       "      <th>22481</th>\n",
       "      <td>WY</td>\n",
       "      <td>2019</td>\n",
       "      <td>February</td>\n",
       "      <td>12 month-ending</td>\n",
       "      <td>Methadone (T40.3)</td>\n",
       "      <td>NaN</td>\n",
       "      <td>100</td>\n",
       "      <td>0.064823</td>\n",
       "      <td>Wyoming</td>\n",
       "      <td>Underreported due to incomplete data.  Data su...</td>\n",
       "      <td>*</td>\n",
       "      <td>NaN</td>\n",
       "    </tr>\n",
       "    <tr>\n",
       "      <th>22482</th>\n",
       "      <td>WY</td>\n",
       "      <td>2019</td>\n",
       "      <td>February</td>\n",
       "      <td>12 month-ending</td>\n",
       "      <td>Number of Drug Overdose Deaths</td>\n",
       "      <td>59</td>\n",
       "      <td>100</td>\n",
       "      <td>0.064823</td>\n",
       "      <td>Wyoming</td>\n",
       "      <td>Underreported due to incomplete data.</td>\n",
       "      <td>*</td>\n",
       "      <td>60</td>\n",
       "    </tr>\n",
       "    <tr>\n",
       "      <th>22483</th>\n",
       "      <td>WY</td>\n",
       "      <td>2019</td>\n",
       "      <td>February</td>\n",
       "      <td>12 month-ending</td>\n",
       "      <td>Number of Deaths</td>\n",
       "      <td>4,628</td>\n",
       "      <td>100</td>\n",
       "      <td>0.064823</td>\n",
       "      <td>Wyoming</td>\n",
       "      <td>Underreported due to incomplete data.</td>\n",
       "      <td>*</td>\n",
       "      <td>NaN</td>\n",
       "    </tr>\n",
       "    <tr>\n",
       "      <th>22484</th>\n",
       "      <td>WY</td>\n",
       "      <td>2019</td>\n",
       "      <td>February</td>\n",
       "      <td>12 month-ending</td>\n",
       "      <td>Opioids (T40.0-T40.4|T40.6)</td>\n",
       "      <td>42</td>\n",
       "      <td>100</td>\n",
       "      <td>0.064823</td>\n",
       "      <td>Wyoming</td>\n",
       "      <td>Underreported due to incomplete data.</td>\n",
       "      <td>*</td>\n",
       "      <td>43</td>\n",
       "    </tr>\n",
       "    <tr>\n",
       "      <th>22485</th>\n",
       "      <td>WY</td>\n",
       "      <td>2019</td>\n",
       "      <td>February</td>\n",
       "      <td>12 month-ending</td>\n",
       "      <td>Heroin (T40.1)</td>\n",
       "      <td>NaN</td>\n",
       "      <td>100</td>\n",
       "      <td>0.064823</td>\n",
       "      <td>Wyoming</td>\n",
       "      <td>Underreported due to incomplete data.  Data su...</td>\n",
       "      <td>*</td>\n",
       "      <td>NaN</td>\n",
       "    </tr>\n",
       "    <tr>\n",
       "      <th>22486</th>\n",
       "      <td>WY</td>\n",
       "      <td>2019</td>\n",
       "      <td>February</td>\n",
       "      <td>12 month-ending</td>\n",
       "      <td>Natural| semi-synthetic| &amp; synthetic opioids| ...</td>\n",
       "      <td>38</td>\n",
       "      <td>100</td>\n",
       "      <td>0.064823</td>\n",
       "      <td>Wyoming</td>\n",
       "      <td>Underreported due to incomplete data.</td>\n",
       "      <td>*</td>\n",
       "      <td>39</td>\n",
       "    </tr>\n",
       "    <tr>\n",
       "      <th>22487</th>\n",
       "      <td>WY</td>\n",
       "      <td>2019</td>\n",
       "      <td>February</td>\n",
       "      <td>12 month-ending</td>\n",
       "      <td>Synthetic opioids| excl. methadone (T40.4)</td>\n",
       "      <td>11</td>\n",
       "      <td>100</td>\n",
       "      <td>0.064823</td>\n",
       "      <td>Wyoming</td>\n",
       "      <td>Underreported due to incomplete data.</td>\n",
       "      <td>*</td>\n",
       "      <td>12</td>\n",
       "    </tr>\n",
       "    <tr>\n",
       "      <th>22488</th>\n",
       "      <td>WY</td>\n",
       "      <td>2019</td>\n",
       "      <td>January</td>\n",
       "      <td>12 month-ending</td>\n",
       "      <td>Natural &amp; semi-synthetic opioids (T40.2)</td>\n",
       "      <td>27</td>\n",
       "      <td>100</td>\n",
       "      <td>0.086096</td>\n",
       "      <td>Wyoming</td>\n",
       "      <td>Underreported due to incomplete data.</td>\n",
       "      <td>*</td>\n",
       "      <td>28</td>\n",
       "    </tr>\n",
       "    <tr>\n",
       "      <th>22489</th>\n",
       "      <td>WY</td>\n",
       "      <td>2019</td>\n",
       "      <td>January</td>\n",
       "      <td>12 month-ending</td>\n",
       "      <td>Natural| semi-synthetic| &amp; synthetic opioids| ...</td>\n",
       "      <td>36</td>\n",
       "      <td>100</td>\n",
       "      <td>0.086096</td>\n",
       "      <td>Wyoming</td>\n",
       "      <td>Underreported due to incomplete data.</td>\n",
       "      <td>*</td>\n",
       "      <td>37</td>\n",
       "    </tr>\n",
       "    <tr>\n",
       "      <th>22490</th>\n",
       "      <td>WY</td>\n",
       "      <td>2019</td>\n",
       "      <td>January</td>\n",
       "      <td>12 month-ending</td>\n",
       "      <td>Percent with drugs specified</td>\n",
       "      <td>98.33333333</td>\n",
       "      <td>100</td>\n",
       "      <td>0.086096</td>\n",
       "      <td>Wyoming</td>\n",
       "      <td>Underreported due to incomplete data.</td>\n",
       "      <td>*</td>\n",
       "      <td>NaN</td>\n",
       "    </tr>\n",
       "    <tr>\n",
       "      <th>22491</th>\n",
       "      <td>WY</td>\n",
       "      <td>2019</td>\n",
       "      <td>January</td>\n",
       "      <td>12 month-ending</td>\n",
       "      <td>Methadone (T40.3)</td>\n",
       "      <td>NaN</td>\n",
       "      <td>100</td>\n",
       "      <td>0.086096</td>\n",
       "      <td>Wyoming</td>\n",
       "      <td>Underreported due to incomplete data.  Data su...</td>\n",
       "      <td>*</td>\n",
       "      <td>NaN</td>\n",
       "    </tr>\n",
       "    <tr>\n",
       "      <th>22492</th>\n",
       "      <td>WY</td>\n",
       "      <td>2019</td>\n",
       "      <td>January</td>\n",
       "      <td>12 month-ending</td>\n",
       "      <td>Psychostimulants with abuse potential (T43.6)</td>\n",
       "      <td>17</td>\n",
       "      <td>100</td>\n",
       "      <td>0.086096</td>\n",
       "      <td>Wyoming</td>\n",
       "      <td>Underreported due to incomplete data.</td>\n",
       "      <td>*</td>\n",
       "      <td>18</td>\n",
       "    </tr>\n",
       "    <tr>\n",
       "      <th>22493</th>\n",
       "      <td>WY</td>\n",
       "      <td>2019</td>\n",
       "      <td>January</td>\n",
       "      <td>12 month-ending</td>\n",
       "      <td>Cocaine (T40.5)</td>\n",
       "      <td>NaN</td>\n",
       "      <td>100</td>\n",
       "      <td>0.086096</td>\n",
       "      <td>Wyoming</td>\n",
       "      <td>Underreported due to incomplete data.  Data su...</td>\n",
       "      <td>*</td>\n",
       "      <td>NaN</td>\n",
       "    </tr>\n",
       "    <tr>\n",
       "      <th>22494</th>\n",
       "      <td>WY</td>\n",
       "      <td>2019</td>\n",
       "      <td>January</td>\n",
       "      <td>12 month-ending</td>\n",
       "      <td>Natural &amp; semi-synthetic opioids| incl. methad...</td>\n",
       "      <td>28</td>\n",
       "      <td>100</td>\n",
       "      <td>0.086096</td>\n",
       "      <td>Wyoming</td>\n",
       "      <td>Underreported due to incomplete data.</td>\n",
       "      <td>*</td>\n",
       "      <td>29</td>\n",
       "    </tr>\n",
       "    <tr>\n",
       "      <th>22495</th>\n",
       "      <td>WY</td>\n",
       "      <td>2019</td>\n",
       "      <td>January</td>\n",
       "      <td>12 month-ending</td>\n",
       "      <td>Heroin (T40.1)</td>\n",
       "      <td>NaN</td>\n",
       "      <td>100</td>\n",
       "      <td>0.086096</td>\n",
       "      <td>Wyoming</td>\n",
       "      <td>Underreported due to incomplete data.  Data su...</td>\n",
       "      <td>*</td>\n",
       "      <td>NaN</td>\n",
       "    </tr>\n",
       "    <tr>\n",
       "      <th>22496</th>\n",
       "      <td>WY</td>\n",
       "      <td>2019</td>\n",
       "      <td>January</td>\n",
       "      <td>12 month-ending</td>\n",
       "      <td>Number of Drug Overdose Deaths</td>\n",
       "      <td>60</td>\n",
       "      <td>100</td>\n",
       "      <td>0.086096</td>\n",
       "      <td>Wyoming</td>\n",
       "      <td>Underreported due to incomplete data.</td>\n",
       "      <td>*</td>\n",
       "      <td>61</td>\n",
       "    </tr>\n",
       "    <tr>\n",
       "      <th>22497</th>\n",
       "      <td>WY</td>\n",
       "      <td>2019</td>\n",
       "      <td>January</td>\n",
       "      <td>12 month-ending</td>\n",
       "      <td>Number of Deaths</td>\n",
       "      <td>4,646</td>\n",
       "      <td>100</td>\n",
       "      <td>0.086096</td>\n",
       "      <td>Wyoming</td>\n",
       "      <td>Underreported due to incomplete data.</td>\n",
       "      <td>*</td>\n",
       "      <td>NaN</td>\n",
       "    </tr>\n",
       "    <tr>\n",
       "      <th>22498</th>\n",
       "      <td>WY</td>\n",
       "      <td>2019</td>\n",
       "      <td>January</td>\n",
       "      <td>12 month-ending</td>\n",
       "      <td>Opioids (T40.0-T40.4|T40.6)</td>\n",
       "      <td>41</td>\n",
       "      <td>100</td>\n",
       "      <td>0.086096</td>\n",
       "      <td>Wyoming</td>\n",
       "      <td>Underreported due to incomplete data.</td>\n",
       "      <td>*</td>\n",
       "      <td>42</td>\n",
       "    </tr>\n",
       "    <tr>\n",
       "      <th>22499</th>\n",
       "      <td>WY</td>\n",
       "      <td>2019</td>\n",
       "      <td>January</td>\n",
       "      <td>12 month-ending</td>\n",
       "      <td>Synthetic opioids| excl. methadone (T40.4)</td>\n",
       "      <td>10</td>\n",
       "      <td>100</td>\n",
       "      <td>0.086096</td>\n",
       "      <td>Wyoming</td>\n",
       "      <td>Underreported due to incomplete data.</td>\n",
       "      <td>*</td>\n",
       "      <td>11</td>\n",
       "    </tr>\n",
       "  </tbody>\n",
       "</table>\n",
       "<p>22500 rows × 12 columns</p>\n",
       "</div>"
      ],
      "text/plain": [
       "      State  Year      Month           Period  \\\n",
       "0        AK  2015      April  12 month-ending   \n",
       "1        AK  2015      April  12 month-ending   \n",
       "2        AK  2015      April  12 month-ending   \n",
       "3        AK  2015      April  12 month-ending   \n",
       "4        AK  2015      April  12 month-ending   \n",
       "5        AK  2015      April  12 month-ending   \n",
       "6        AK  2015      April  12 month-ending   \n",
       "7        AK  2015      April  12 month-ending   \n",
       "8        AK  2015      April  12 month-ending   \n",
       "9        AK  2015      April  12 month-ending   \n",
       "10       AK  2015      April  12 month-ending   \n",
       "11       AK  2015      April  12 month-ending   \n",
       "12       AK  2015     August  12 month-ending   \n",
       "13       AK  2015     August  12 month-ending   \n",
       "14       AK  2015     August  12 month-ending   \n",
       "15       AK  2015     August  12 month-ending   \n",
       "16       AK  2015     August  12 month-ending   \n",
       "17       AK  2015     August  12 month-ending   \n",
       "18       AK  2015     August  12 month-ending   \n",
       "19       AK  2015     August  12 month-ending   \n",
       "20       AK  2015     August  12 month-ending   \n",
       "21       AK  2015     August  12 month-ending   \n",
       "22       AK  2015     August  12 month-ending   \n",
       "23       AK  2015     August  12 month-ending   \n",
       "24       AK  2015   December  12 month-ending   \n",
       "25       AK  2015   December  12 month-ending   \n",
       "26       AK  2015   December  12 month-ending   \n",
       "27       AK  2015   December  12 month-ending   \n",
       "28       AK  2015   December  12 month-ending   \n",
       "29       AK  2015   December  12 month-ending   \n",
       "...     ...   ...        ...              ...   \n",
       "22470    WY  2018  September  12 month-ending   \n",
       "22471    WY  2018  September  12 month-ending   \n",
       "22472    WY  2018  September  12 month-ending   \n",
       "22473    WY  2018  September  12 month-ending   \n",
       "22474    WY  2018  September  12 month-ending   \n",
       "22475    WY  2018  September  12 month-ending   \n",
       "22476    WY  2019   February  12 month-ending   \n",
       "22477    WY  2019   February  12 month-ending   \n",
       "22478    WY  2019   February  12 month-ending   \n",
       "22479    WY  2019   February  12 month-ending   \n",
       "22480    WY  2019   February  12 month-ending   \n",
       "22481    WY  2019   February  12 month-ending   \n",
       "22482    WY  2019   February  12 month-ending   \n",
       "22483    WY  2019   February  12 month-ending   \n",
       "22484    WY  2019   February  12 month-ending   \n",
       "22485    WY  2019   February  12 month-ending   \n",
       "22486    WY  2019   February  12 month-ending   \n",
       "22487    WY  2019   February  12 month-ending   \n",
       "22488    WY  2019    January  12 month-ending   \n",
       "22489    WY  2019    January  12 month-ending   \n",
       "22490    WY  2019    January  12 month-ending   \n",
       "22491    WY  2019    January  12 month-ending   \n",
       "22492    WY  2019    January  12 month-ending   \n",
       "22493    WY  2019    January  12 month-ending   \n",
       "22494    WY  2019    January  12 month-ending   \n",
       "22495    WY  2019    January  12 month-ending   \n",
       "22496    WY  2019    January  12 month-ending   \n",
       "22497    WY  2019    January  12 month-ending   \n",
       "22498    WY  2019    January  12 month-ending   \n",
       "22499    WY  2019    January  12 month-ending   \n",
       "\n",
       "                                               Indicator   Data Value  \\\n",
       "0               Natural & semi-synthetic opioids (T40.2)          NaN   \n",
       "1                                      Methadone (T40.3)          NaN   \n",
       "2                                        Cocaine (T40.5)          NaN   \n",
       "3                                         Heroin (T40.1)          NaN   \n",
       "4                            Opioids (T40.0-T40.4|T40.6)          NaN   \n",
       "5          Psychostimulants with abuse potential (T43.6)          NaN   \n",
       "6      Natural & semi-synthetic opioids| incl. methad...          NaN   \n",
       "7      Natural| semi-synthetic| & synthetic opioids| ...          NaN   \n",
       "8                                       Number of Deaths        4,133   \n",
       "9                           Percent with drugs specified   88.0952381   \n",
       "10                        Number of Drug Overdose Deaths          126   \n",
       "11            Synthetic opioids| excl. methadone (T40.4)          NaN   \n",
       "12         Psychostimulants with abuse potential (T43.6)          NaN   \n",
       "13                                       Cocaine (T40.5)          NaN   \n",
       "14            Synthetic opioids| excl. methadone (T40.4)          NaN   \n",
       "15                                        Heroin (T40.1)          NaN   \n",
       "16                                     Methadone (T40.3)          NaN   \n",
       "17                          Percent with drugs specified  87.90322581   \n",
       "18              Natural & semi-synthetic opioids (T40.2)          NaN   \n",
       "19                        Number of Drug Overdose Deaths          124   \n",
       "20     Natural| semi-synthetic| & synthetic opioids| ...          NaN   \n",
       "21                                      Number of Deaths        4,222   \n",
       "22                           Opioids (T40.0-T40.4|T40.6)          NaN   \n",
       "23     Natural & semi-synthetic opioids| incl. methad...          NaN   \n",
       "24              Natural & semi-synthetic opioids (T40.2)          NaN   \n",
       "25                                      Number of Deaths        4,193   \n",
       "26            Synthetic opioids| excl. methadone (T40.4)          NaN   \n",
       "27                                        Heroin (T40.1)          NaN   \n",
       "28                                     Methadone (T40.3)          NaN   \n",
       "29         Psychostimulants with abuse potential (T43.6)          NaN   \n",
       "...                                                  ...          ...   \n",
       "22470                       Percent with drugs specified          100   \n",
       "22471  Natural & semi-synthetic opioids| incl. methad...           32   \n",
       "22472  Natural| semi-synthetic| & synthetic opioids| ...           41   \n",
       "22473                                     Heroin (T40.1)          NaN   \n",
       "22474                        Opioids (T40.0-T40.4|T40.6)           46   \n",
       "22475         Synthetic opioids| excl. methadone (T40.4)           13   \n",
       "22476           Natural & semi-synthetic opioids (T40.2)           29   \n",
       "22477  Natural & semi-synthetic opioids| incl. methad...           30   \n",
       "22478      Psychostimulants with abuse potential (T43.6)           15   \n",
       "22479                                    Cocaine (T40.5)          NaN   \n",
       "22480                       Percent with drugs specified  98.30508475   \n",
       "22481                                  Methadone (T40.3)          NaN   \n",
       "22482                     Number of Drug Overdose Deaths           59   \n",
       "22483                                   Number of Deaths        4,628   \n",
       "22484                        Opioids (T40.0-T40.4|T40.6)           42   \n",
       "22485                                     Heroin (T40.1)          NaN   \n",
       "22486  Natural| semi-synthetic| & synthetic opioids| ...           38   \n",
       "22487         Synthetic opioids| excl. methadone (T40.4)           11   \n",
       "22488           Natural & semi-synthetic opioids (T40.2)           27   \n",
       "22489  Natural| semi-synthetic| & synthetic opioids| ...           36   \n",
       "22490                       Percent with drugs specified  98.33333333   \n",
       "22491                                  Methadone (T40.3)          NaN   \n",
       "22492      Psychostimulants with abuse potential (T43.6)           17   \n",
       "22493                                    Cocaine (T40.5)          NaN   \n",
       "22494  Natural & semi-synthetic opioids| incl. methad...           28   \n",
       "22495                                     Heroin (T40.1)          NaN   \n",
       "22496                     Number of Drug Overdose Deaths           60   \n",
       "22497                                   Number of Deaths        4,646   \n",
       "22498                        Opioids (T40.0-T40.4|T40.6)           41   \n",
       "22499         Synthetic opioids| excl. methadone (T40.4)           10   \n",
       "\n",
       "      Percent Complete  Percent Pending Investigation State Name  \\\n",
       "0                  100                       0.000000     Alaska   \n",
       "1                  100                       0.000000     Alaska   \n",
       "2                  100                       0.000000     Alaska   \n",
       "3                  100                       0.000000     Alaska   \n",
       "4                  100                       0.000000     Alaska   \n",
       "5                  100                       0.000000     Alaska   \n",
       "6                  100                       0.000000     Alaska   \n",
       "7                  100                       0.000000     Alaska   \n",
       "8                  100                       0.000000     Alaska   \n",
       "9                  100                       0.000000     Alaska   \n",
       "10                 100                       0.000000     Alaska   \n",
       "11                 100                       0.000000     Alaska   \n",
       "12                 100                       0.000000     Alaska   \n",
       "13                 100                       0.000000     Alaska   \n",
       "14                 100                       0.000000     Alaska   \n",
       "15                 100                       0.000000     Alaska   \n",
       "16                 100                       0.000000     Alaska   \n",
       "17                 100                       0.000000     Alaska   \n",
       "18                 100                       0.000000     Alaska   \n",
       "19                 100                       0.000000     Alaska   \n",
       "20                 100                       0.000000     Alaska   \n",
       "21                 100                       0.000000     Alaska   \n",
       "22                 100                       0.000000     Alaska   \n",
       "23                 100                       0.000000     Alaska   \n",
       "24                 100                       0.000000     Alaska   \n",
       "25                 100                       0.000000     Alaska   \n",
       "26                 100                       0.000000     Alaska   \n",
       "27                 100                       0.000000     Alaska   \n",
       "28                 100                       0.000000     Alaska   \n",
       "29                 100                       0.000000     Alaska   \n",
       "...                ...                            ...        ...   \n",
       "22470              100                       0.021920    Wyoming   \n",
       "22471              100                       0.021920    Wyoming   \n",
       "22472              100                       0.021920    Wyoming   \n",
       "22473              100                       0.021920    Wyoming   \n",
       "22474              100                       0.021920    Wyoming   \n",
       "22475              100                       0.021920    Wyoming   \n",
       "22476              100                       0.064823    Wyoming   \n",
       "22477              100                       0.064823    Wyoming   \n",
       "22478              100                       0.064823    Wyoming   \n",
       "22479              100                       0.064823    Wyoming   \n",
       "22480              100                       0.064823    Wyoming   \n",
       "22481              100                       0.064823    Wyoming   \n",
       "22482              100                       0.064823    Wyoming   \n",
       "22483              100                       0.064823    Wyoming   \n",
       "22484              100                       0.064823    Wyoming   \n",
       "22485              100                       0.064823    Wyoming   \n",
       "22486              100                       0.064823    Wyoming   \n",
       "22487              100                       0.064823    Wyoming   \n",
       "22488              100                       0.086096    Wyoming   \n",
       "22489              100                       0.086096    Wyoming   \n",
       "22490              100                       0.086096    Wyoming   \n",
       "22491              100                       0.086096    Wyoming   \n",
       "22492              100                       0.086096    Wyoming   \n",
       "22493              100                       0.086096    Wyoming   \n",
       "22494              100                       0.086096    Wyoming   \n",
       "22495              100                       0.086096    Wyoming   \n",
       "22496              100                       0.086096    Wyoming   \n",
       "22497              100                       0.086096    Wyoming   \n",
       "22498              100                       0.086096    Wyoming   \n",
       "22499              100                       0.086096    Wyoming   \n",
       "\n",
       "                                                Footnote Footnote Symbol  \\\n",
       "0      Numbers may differ from published reports usin...              **   \n",
       "1      Numbers may differ from published reports usin...              **   \n",
       "2      Numbers may differ from published reports usin...              **   \n",
       "3      Numbers may differ from published reports usin...              **   \n",
       "4      Numbers may differ from published reports usin...              **   \n",
       "5      Numbers may differ from published reports usin...              **   \n",
       "6      Numbers may differ from published reports usin...              **   \n",
       "7      Numbers may differ from published reports usin...              **   \n",
       "8      Numbers may differ from published reports usin...              **   \n",
       "9      Numbers may differ from published reports usin...              **   \n",
       "10     Numbers may differ from published reports usin...              **   \n",
       "11     Numbers may differ from published reports usin...              **   \n",
       "12     Numbers may differ from published reports usin...              **   \n",
       "13     Numbers may differ from published reports usin...              **   \n",
       "14     Numbers may differ from published reports usin...              **   \n",
       "15     Numbers may differ from published reports usin...              **   \n",
       "16     Numbers may differ from published reports usin...              **   \n",
       "17     Numbers may differ from published reports usin...              **   \n",
       "18     Numbers may differ from published reports usin...              **   \n",
       "19     Numbers may differ from published reports usin...              **   \n",
       "20     Numbers may differ from published reports usin...              **   \n",
       "21     Numbers may differ from published reports usin...              **   \n",
       "22     Numbers may differ from published reports usin...              **   \n",
       "23     Numbers may differ from published reports usin...              **   \n",
       "24     Numbers may differ from published reports usin...              **   \n",
       "25     Numbers may differ from published reports usin...              **   \n",
       "26     Numbers may differ from published reports usin...              **   \n",
       "27     Numbers may differ from published reports usin...              **   \n",
       "28     Numbers may differ from published reports usin...              **   \n",
       "29     Numbers may differ from published reports usin...              **   \n",
       "...                                                  ...             ...   \n",
       "22470              Underreported due to incomplete data.               *   \n",
       "22471              Underreported due to incomplete data.               *   \n",
       "22472              Underreported due to incomplete data.               *   \n",
       "22473  Underreported due to incomplete data.  Data su...               *   \n",
       "22474              Underreported due to incomplete data.               *   \n",
       "22475              Underreported due to incomplete data.               *   \n",
       "22476              Underreported due to incomplete data.               *   \n",
       "22477              Underreported due to incomplete data.               *   \n",
       "22478              Underreported due to incomplete data.               *   \n",
       "22479  Underreported due to incomplete data.  Data su...               *   \n",
       "22480              Underreported due to incomplete data.               *   \n",
       "22481  Underreported due to incomplete data.  Data su...               *   \n",
       "22482              Underreported due to incomplete data.               *   \n",
       "22483              Underreported due to incomplete data.               *   \n",
       "22484              Underreported due to incomplete data.               *   \n",
       "22485  Underreported due to incomplete data.  Data su...               *   \n",
       "22486              Underreported due to incomplete data.               *   \n",
       "22487              Underreported due to incomplete data.               *   \n",
       "22488              Underreported due to incomplete data.               *   \n",
       "22489              Underreported due to incomplete data.               *   \n",
       "22490              Underreported due to incomplete data.               *   \n",
       "22491  Underreported due to incomplete data.  Data su...               *   \n",
       "22492              Underreported due to incomplete data.               *   \n",
       "22493  Underreported due to incomplete data.  Data su...               *   \n",
       "22494              Underreported due to incomplete data.               *   \n",
       "22495  Underreported due to incomplete data.  Data su...               *   \n",
       "22496              Underreported due to incomplete data.               *   \n",
       "22497              Underreported due to incomplete data.               *   \n",
       "22498              Underreported due to incomplete data.               *   \n",
       "22499              Underreported due to incomplete data.               *   \n",
       "\n",
       "      Predicted Value  \n",
       "0                 NaN  \n",
       "1                 NaN  \n",
       "2                 NaN  \n",
       "3                 NaN  \n",
       "4                 NaN  \n",
       "5                 NaN  \n",
       "6                 NaN  \n",
       "7                 NaN  \n",
       "8                 NaN  \n",
       "9                 NaN  \n",
       "10                127  \n",
       "11                NaN  \n",
       "12                NaN  \n",
       "13                NaN  \n",
       "14                NaN  \n",
       "15                NaN  \n",
       "16                NaN  \n",
       "17                NaN  \n",
       "18                NaN  \n",
       "19                125  \n",
       "20                NaN  \n",
       "21                NaN  \n",
       "22                NaN  \n",
       "23                NaN  \n",
       "24                NaN  \n",
       "25                NaN  \n",
       "26                NaN  \n",
       "27                NaN  \n",
       "28                NaN  \n",
       "29                NaN  \n",
       "...               ...  \n",
       "22470             NaN  \n",
       "22471              33  \n",
       "22472              42  \n",
       "22473             NaN  \n",
       "22474              47  \n",
       "22475              14  \n",
       "22476              30  \n",
       "22477              31  \n",
       "22478              16  \n",
       "22479             NaN  \n",
       "22480             NaN  \n",
       "22481             NaN  \n",
       "22482              60  \n",
       "22483             NaN  \n",
       "22484              43  \n",
       "22485             NaN  \n",
       "22486              39  \n",
       "22487              12  \n",
       "22488              28  \n",
       "22489              37  \n",
       "22490             NaN  \n",
       "22491             NaN  \n",
       "22492              18  \n",
       "22493             NaN  \n",
       "22494              29  \n",
       "22495             NaN  \n",
       "22496              61  \n",
       "22497             NaN  \n",
       "22498              42  \n",
       "22499              11  \n",
       "\n",
       "[22500 rows x 12 columns]"
      ]
     },
     "execution_count": 34,
     "metadata": {},
     "output_type": "execute_result"
    }
   ],
   "source": [
    "db = pd.read_csv(file)\n",
    "db.dtypes\n",
    "db"
   ]
  },
  {
   "cell_type": "code",
   "execution_count": 35,
   "metadata": {},
   "outputs": [
    {
     "data": {
      "text/plain": [
       "State         object\n",
       "Year           int64\n",
       "Indicator     object\n",
       "Data Value    object\n",
       "dtype: object"
      ]
     },
     "execution_count": 35,
     "metadata": {},
     "output_type": "execute_result"
    }
   ],
   "source": [
    "dropped_db = db.iloc[:,[0,1,4,5]]\n",
    "dropped_db.filter(like= ' ', axis=0)\n",
    "dropped = dropped_db.dropna()\n",
    "dropped.dtypes"
   ]
  },
  {
   "cell_type": "code",
   "execution_count": 36,
   "metadata": {},
   "outputs": [],
   "source": [
    "test = dropped.set_index('Indicator')\n",
    "data = test.loc[\"Opioids (T40.0-T40.4|T40.6)\"]"
   ]
  },
  {
   "cell_type": "code",
   "execution_count": 37,
   "metadata": {},
   "outputs": [
    {
     "name": "stderr",
     "output_type": "stream",
     "text": [
      "C:\\Users\\hayde\\Anaconda3\\lib\\site-packages\\ipykernel_launcher.py:1: SettingWithCopyWarning:\n",
      "\n",
      "\n",
      "A value is trying to be set on a copy of a slice from a DataFrame.\n",
      "Try using .loc[row_indexer,col_indexer] = value instead\n",
      "\n",
      "See the caveats in the documentation: http://pandas.pydata.org/pandas-docs/stable/indexing.html#indexing-view-versus-copy\n",
      "\n"
     ]
    }
   ],
   "source": [
    "data['Data Value'] = data['Data Value'].str.replace(',', '')"
   ]
  },
  {
   "cell_type": "code",
   "execution_count": 38,
   "metadata": {},
   "outputs": [
    {
     "name": "stderr",
     "output_type": "stream",
     "text": [
      "C:\\Users\\hayde\\Anaconda3\\lib\\site-packages\\ipykernel_launcher.py:1: SettingWithCopyWarning:\n",
      "\n",
      "\n",
      "A value is trying to be set on a copy of a slice from a DataFrame.\n",
      "Try using .loc[row_indexer,col_indexer] = value instead\n",
      "\n",
      "See the caveats in the documentation: http://pandas.pydata.org/pandas-docs/stable/indexing.html#indexing-view-versus-copy\n",
      "\n"
     ]
    }
   ],
   "source": [
    "data['Data Value']= pd.to_numeric(data['Data Value'])"
   ]
  },
  {
   "cell_type": "code",
   "execution_count": 39,
   "metadata": {},
   "outputs": [
    {
     "data": {
      "text/html": [
       "<div>\n",
       "<style scoped>\n",
       "    .dataframe tbody tr th:only-of-type {\n",
       "        vertical-align: middle;\n",
       "    }\n",
       "\n",
       "    .dataframe tbody tr th {\n",
       "        vertical-align: top;\n",
       "    }\n",
       "\n",
       "    .dataframe thead th {\n",
       "        text-align: right;\n",
       "    }\n",
       "</style>\n",
       "<table border=\"1\" class=\"dataframe\">\n",
       "  <thead>\n",
       "    <tr style=\"text-align: right;\">\n",
       "      <th></th>\n",
       "      <th>Data Value</th>\n",
       "    </tr>\n",
       "    <tr>\n",
       "      <th>Year</th>\n",
       "      <th></th>\n",
       "    </tr>\n",
       "  </thead>\n",
       "  <tbody>\n",
       "    <tr>\n",
       "      <th>2015</th>\n",
       "      <td>169995</td>\n",
       "    </tr>\n",
       "    <tr>\n",
       "      <th>2016</th>\n",
       "      <td>255568</td>\n",
       "    </tr>\n",
       "    <tr>\n",
       "      <th>2017</th>\n",
       "      <td>310322</td>\n",
       "    </tr>\n",
       "    <tr>\n",
       "      <th>2018</th>\n",
       "      <td>340992</td>\n",
       "    </tr>\n",
       "    <tr>\n",
       "      <th>2019</th>\n",
       "      <td>57783</td>\n",
       "    </tr>\n",
       "  </tbody>\n",
       "</table>\n",
       "</div>"
      ],
      "text/plain": [
       "      Data Value\n",
       "Year            \n",
       "2015      169995\n",
       "2016      255568\n",
       "2017      310322\n",
       "2018      340992\n",
       "2019       57783"
      ]
     },
     "execution_count": 39,
     "metadata": {},
     "output_type": "execute_result"
    }
   ],
   "source": [
    "data.groupby('Year').sum()"
   ]
  },
  {
   "cell_type": "code",
   "execution_count": 40,
   "metadata": {},
   "outputs": [],
   "source": [
    "clean_data = data.groupby([\"State\",\"Year\"]).sum()"
   ]
  },
  {
   "cell_type": "code",
   "execution_count": 41,
   "metadata": {},
   "outputs": [],
   "source": [
    "clean_data.to_csv('Cleaned_Op_Death_data.csv')"
   ]
  },
  {
   "cell_type": "code",
   "execution_count": 42,
   "metadata": {},
   "outputs": [
    {
     "data": {
      "text/html": [
       "<div>\n",
       "<style scoped>\n",
       "    .dataframe tbody tr th:only-of-type {\n",
       "        vertical-align: middle;\n",
       "    }\n",
       "\n",
       "    .dataframe tbody tr th {\n",
       "        vertical-align: top;\n",
       "    }\n",
       "\n",
       "    .dataframe thead th {\n",
       "        text-align: right;\n",
       "    }\n",
       "</style>\n",
       "<table border=\"1\" class=\"dataframe\">\n",
       "  <thead>\n",
       "    <tr style=\"text-align: right;\">\n",
       "      <th></th>\n",
       "      <th></th>\n",
       "      <th>Data Value</th>\n",
       "    </tr>\n",
       "    <tr>\n",
       "      <th>State</th>\n",
       "      <th>Year</th>\n",
       "      <th></th>\n",
       "    </tr>\n",
       "  </thead>\n",
       "  <tbody>\n",
       "    <tr>\n",
       "      <th rowspan=\"5\" valign=\"top\">AK</th>\n",
       "      <th>2015</th>\n",
       "      <td>165</td>\n",
       "    </tr>\n",
       "    <tr>\n",
       "      <th>2016</th>\n",
       "      <td>1163</td>\n",
       "    </tr>\n",
       "    <tr>\n",
       "      <th>2017</th>\n",
       "      <td>1110</td>\n",
       "    </tr>\n",
       "    <tr>\n",
       "      <th>2018</th>\n",
       "      <td>990</td>\n",
       "    </tr>\n",
       "    <tr>\n",
       "      <th>2019</th>\n",
       "      <td>136</td>\n",
       "    </tr>\n",
       "    <tr>\n",
       "      <th rowspan=\"3\" valign=\"top\">AZ</th>\n",
       "      <th>2017</th>\n",
       "      <td>6208</td>\n",
       "    </tr>\n",
       "    <tr>\n",
       "      <th>2018</th>\n",
       "      <td>12331</td>\n",
       "    </tr>\n",
       "    <tr>\n",
       "      <th>2019</th>\n",
       "      <td>2295</td>\n",
       "    </tr>\n",
       "    <tr>\n",
       "      <th rowspan=\"5\" valign=\"top\">CT</th>\n",
       "      <th>2015</th>\n",
       "      <td>7164</td>\n",
       "    </tr>\n",
       "    <tr>\n",
       "      <th>2016</th>\n",
       "      <td>9528</td>\n",
       "    </tr>\n",
       "    <tr>\n",
       "      <th>2017</th>\n",
       "      <td>11231</td>\n",
       "    </tr>\n",
       "    <tr>\n",
       "      <th>2018</th>\n",
       "      <td>11444</td>\n",
       "    </tr>\n",
       "    <tr>\n",
       "      <th>2019</th>\n",
       "      <td>1918</td>\n",
       "    </tr>\n",
       "    <tr>\n",
       "      <th rowspan=\"5\" valign=\"top\">DC</th>\n",
       "      <th>2015</th>\n",
       "      <td>1050</td>\n",
       "    </tr>\n",
       "    <tr>\n",
       "      <th>2016</th>\n",
       "      <td>1989</td>\n",
       "    </tr>\n",
       "    <tr>\n",
       "      <th>2017</th>\n",
       "      <td>3454</td>\n",
       "    </tr>\n",
       "    <tr>\n",
       "      <th>2018</th>\n",
       "      <td>2639</td>\n",
       "    </tr>\n",
       "    <tr>\n",
       "      <th>2019</th>\n",
       "      <td>440</td>\n",
       "    </tr>\n",
       "    <tr>\n",
       "      <th rowspan=\"2\" valign=\"top\">DE</th>\n",
       "      <th>2018</th>\n",
       "      <td>3291</td>\n",
       "    </tr>\n",
       "    <tr>\n",
       "      <th>2019</th>\n",
       "      <td>724</td>\n",
       "    </tr>\n",
       "    <tr>\n",
       "      <th rowspan=\"5\" valign=\"top\">GA</th>\n",
       "      <th>2015</th>\n",
       "      <td>4421</td>\n",
       "    </tr>\n",
       "    <tr>\n",
       "      <th>2016</th>\n",
       "      <td>10280</td>\n",
       "    </tr>\n",
       "    <tr>\n",
       "      <th>2017</th>\n",
       "      <td>11903</td>\n",
       "    </tr>\n",
       "    <tr>\n",
       "      <th>2018</th>\n",
       "      <td>10995</td>\n",
       "    </tr>\n",
       "    <tr>\n",
       "      <th>2019</th>\n",
       "      <td>1688</td>\n",
       "    </tr>\n",
       "    <tr>\n",
       "      <th rowspan=\"4\" valign=\"top\">HI</th>\n",
       "      <th>2016</th>\n",
       "      <td>802</td>\n",
       "    </tr>\n",
       "    <tr>\n",
       "      <th>2017</th>\n",
       "      <td>345</td>\n",
       "    </tr>\n",
       "    <tr>\n",
       "      <th>2018</th>\n",
       "      <td>497</td>\n",
       "    </tr>\n",
       "    <tr>\n",
       "      <th>2019</th>\n",
       "      <td>127</td>\n",
       "    </tr>\n",
       "    <tr>\n",
       "      <th>IA</th>\n",
       "      <th>2015</th>\n",
       "      <td>1944</td>\n",
       "    </tr>\n",
       "    <tr>\n",
       "      <th>...</th>\n",
       "      <th>...</th>\n",
       "      <td>...</td>\n",
       "    </tr>\n",
       "    <tr>\n",
       "      <th rowspan=\"2\" valign=\"top\">UT</th>\n",
       "      <th>2018</th>\n",
       "      <td>5539</td>\n",
       "    </tr>\n",
       "    <tr>\n",
       "      <th>2019</th>\n",
       "      <td>867</td>\n",
       "    </tr>\n",
       "    <tr>\n",
       "      <th rowspan=\"5\" valign=\"top\">VA</th>\n",
       "      <th>2015</th>\n",
       "      <td>9295</td>\n",
       "    </tr>\n",
       "    <tr>\n",
       "      <th>2016</th>\n",
       "      <td>11715</td>\n",
       "    </tr>\n",
       "    <tr>\n",
       "      <th>2017</th>\n",
       "      <td>13957</td>\n",
       "    </tr>\n",
       "    <tr>\n",
       "      <th>2018</th>\n",
       "      <td>14204</td>\n",
       "    </tr>\n",
       "    <tr>\n",
       "      <th>2019</th>\n",
       "      <td>2446</td>\n",
       "    </tr>\n",
       "    <tr>\n",
       "      <th rowspan=\"5\" valign=\"top\">VT</th>\n",
       "      <th>2015</th>\n",
       "      <td>851</td>\n",
       "    </tr>\n",
       "    <tr>\n",
       "      <th>2016</th>\n",
       "      <td>1078</td>\n",
       "    </tr>\n",
       "    <tr>\n",
       "      <th>2017</th>\n",
       "      <td>1332</td>\n",
       "    </tr>\n",
       "    <tr>\n",
       "      <th>2018</th>\n",
       "      <td>1374</td>\n",
       "    </tr>\n",
       "    <tr>\n",
       "      <th>2019</th>\n",
       "      <td>241</td>\n",
       "    </tr>\n",
       "    <tr>\n",
       "      <th rowspan=\"5\" valign=\"top\">WA</th>\n",
       "      <th>2015</th>\n",
       "      <td>8296</td>\n",
       "    </tr>\n",
       "    <tr>\n",
       "      <th>2016</th>\n",
       "      <td>8894</td>\n",
       "    </tr>\n",
       "    <tr>\n",
       "      <th>2017</th>\n",
       "      <td>8409</td>\n",
       "    </tr>\n",
       "    <tr>\n",
       "      <th>2018</th>\n",
       "      <td>8902</td>\n",
       "    </tr>\n",
       "    <tr>\n",
       "      <th>2019</th>\n",
       "      <td>1476</td>\n",
       "    </tr>\n",
       "    <tr>\n",
       "      <th rowspan=\"5\" valign=\"top\">WI</th>\n",
       "      <th>2015</th>\n",
       "      <td>1288</td>\n",
       "    </tr>\n",
       "    <tr>\n",
       "      <th>2016</th>\n",
       "      <td>8474</td>\n",
       "    </tr>\n",
       "    <tr>\n",
       "      <th>2017</th>\n",
       "      <td>10817</td>\n",
       "    </tr>\n",
       "    <tr>\n",
       "      <th>2018</th>\n",
       "      <td>10625</td>\n",
       "    </tr>\n",
       "    <tr>\n",
       "      <th>2019</th>\n",
       "      <td>1658</td>\n",
       "    </tr>\n",
       "    <tr>\n",
       "      <th rowspan=\"5\" valign=\"top\">WV</th>\n",
       "      <th>2015</th>\n",
       "      <td>7341</td>\n",
       "    </tr>\n",
       "    <tr>\n",
       "      <th>2016</th>\n",
       "      <td>8172</td>\n",
       "    </tr>\n",
       "    <tr>\n",
       "      <th>2017</th>\n",
       "      <td>10024</td>\n",
       "    </tr>\n",
       "    <tr>\n",
       "      <th>2018</th>\n",
       "      <td>9249</td>\n",
       "    </tr>\n",
       "    <tr>\n",
       "      <th>2019</th>\n",
       "      <td>1432</td>\n",
       "    </tr>\n",
       "    <tr>\n",
       "      <th rowspan=\"3\" valign=\"top\">WY</th>\n",
       "      <th>2017</th>\n",
       "      <td>404</td>\n",
       "    </tr>\n",
       "    <tr>\n",
       "      <th>2018</th>\n",
       "      <td>497</td>\n",
       "    </tr>\n",
       "    <tr>\n",
       "      <th>2019</th>\n",
       "      <td>83</td>\n",
       "    </tr>\n",
       "  </tbody>\n",
       "</table>\n",
       "<p>151 rows × 1 columns</p>\n",
       "</div>"
      ],
      "text/plain": [
       "            Data Value\n",
       "State Year            \n",
       "AK    2015         165\n",
       "      2016        1163\n",
       "      2017        1110\n",
       "      2018         990\n",
       "      2019         136\n",
       "AZ    2017        6208\n",
       "      2018       12331\n",
       "      2019        2295\n",
       "CT    2015        7164\n",
       "      2016        9528\n",
       "      2017       11231\n",
       "      2018       11444\n",
       "      2019        1918\n",
       "DC    2015        1050\n",
       "      2016        1989\n",
       "      2017        3454\n",
       "      2018        2639\n",
       "      2019         440\n",
       "DE    2018        3291\n",
       "      2019         724\n",
       "GA    2015        4421\n",
       "      2016       10280\n",
       "      2017       11903\n",
       "      2018       10995\n",
       "      2019        1688\n",
       "HI    2016         802\n",
       "      2017         345\n",
       "      2018         497\n",
       "      2019         127\n",
       "IA    2015        1944\n",
       "...                ...\n",
       "UT    2018        5539\n",
       "      2019         867\n",
       "VA    2015        9295\n",
       "      2016       11715\n",
       "      2017       13957\n",
       "      2018       14204\n",
       "      2019        2446\n",
       "VT    2015         851\n",
       "      2016        1078\n",
       "      2017        1332\n",
       "      2018        1374\n",
       "      2019         241\n",
       "WA    2015        8296\n",
       "      2016        8894\n",
       "      2017        8409\n",
       "      2018        8902\n",
       "      2019        1476\n",
       "WI    2015        1288\n",
       "      2016        8474\n",
       "      2017       10817\n",
       "      2018       10625\n",
       "      2019        1658\n",
       "WV    2015        7341\n",
       "      2016        8172\n",
       "      2017       10024\n",
       "      2018        9249\n",
       "      2019        1432\n",
       "WY    2017         404\n",
       "      2018         497\n",
       "      2019          83\n",
       "\n",
       "[151 rows x 1 columns]"
      ]
     },
     "execution_count": 42,
     "metadata": {},
     "output_type": "execute_result"
    }
   ],
   "source": [
    "clean_data"
   ]
  },
  {
   "cell_type": "markdown",
   "metadata": {},
   "source": [
    "# Production of Quearies for Data Analysis"
   ]
  },
  {
   "cell_type": "code",
   "execution_count": 7,
   "metadata": {},
   "outputs": [
    {
     "data": {
      "text/html": [
       "<div>\n",
       "<style scoped>\n",
       "    .dataframe tbody tr th:only-of-type {\n",
       "        vertical-align: middle;\n",
       "    }\n",
       "\n",
       "    .dataframe tbody tr th {\n",
       "        vertical-align: top;\n",
       "    }\n",
       "\n",
       "    .dataframe thead th {\n",
       "        text-align: right;\n",
       "    }\n",
       "</style>\n",
       "<table border=\"1\" class=\"dataframe\">\n",
       "  <thead>\n",
       "    <tr style=\"text-align: right;\">\n",
       "      <th></th>\n",
       "      <th>state_name</th>\n",
       "      <th>sum</th>\n",
       "    </tr>\n",
       "  </thead>\n",
       "  <tbody>\n",
       "    <tr>\n",
       "      <th>0</th>\n",
       "      <td>Ohio</td>\n",
       "      <td>161189</td>\n",
       "    </tr>\n",
       "    <tr>\n",
       "      <th>1</th>\n",
       "      <td>Illinois</td>\n",
       "      <td>90440</td>\n",
       "    </tr>\n",
       "    <tr>\n",
       "      <th>2</th>\n",
       "      <td>New York</td>\n",
       "      <td>87464</td>\n",
       "    </tr>\n",
       "    <tr>\n",
       "      <th>3</th>\n",
       "      <td>Maryland</td>\n",
       "      <td>84267</td>\n",
       "    </tr>\n",
       "    <tr>\n",
       "      <th>4</th>\n",
       "      <td>North Carolina</td>\n",
       "      <td>75294</td>\n",
       "    </tr>\n",
       "  </tbody>\n",
       "</table>\n",
       "</div>"
      ],
      "text/plain": [
       "       state_name     sum\n",
       "0            Ohio  161189\n",
       "1        Illinois   90440\n",
       "2        New York   87464\n",
       "3        Maryland   84267\n",
       "4  North Carolina   75294"
      ]
     },
     "execution_count": 7,
     "metadata": {},
     "output_type": "execute_result"
    }
   ],
   "source": [
    "dataframe = psql.read_sql(\"SELECT states.state_name, SUM(deaths) FROM overdoses INNER JOIN states \\\n",
    "                          ON states.state_id = overdoses.state_id GROUP BY states.state_name \\\n",
    "                          ORDER BY SUM(deaths) DESC LIMIT 5;\" , engine)\n",
    "dataframe.head()"
   ]
  },
  {
   "cell_type": "code",
   "execution_count": 13,
   "metadata": {
    "scrolled": true
   },
   "outputs": [
    {
     "data": {
      "text/html": [
       "<div>\n",
       "<style scoped>\n",
       "    .dataframe tbody tr th:only-of-type {\n",
       "        vertical-align: middle;\n",
       "    }\n",
       "\n",
       "    .dataframe tbody tr th {\n",
       "        vertical-align: top;\n",
       "    }\n",
       "\n",
       "    .dataframe thead th {\n",
       "        text-align: right;\n",
       "    }\n",
       "</style>\n",
       "<table border=\"1\" class=\"dataframe\">\n",
       "  <thead>\n",
       "    <tr style=\"text-align: right;\">\n",
       "      <th></th>\n",
       "      <th>year</th>\n",
       "      <th>death_toll</th>\n",
       "    </tr>\n",
       "  </thead>\n",
       "  <tbody>\n",
       "    <tr>\n",
       "      <th>0</th>\n",
       "      <td>2018</td>\n",
       "      <td>338353</td>\n",
       "    </tr>\n",
       "    <tr>\n",
       "      <th>1</th>\n",
       "      <td>2017</td>\n",
       "      <td>306868</td>\n",
       "    </tr>\n",
       "    <tr>\n",
       "      <th>2</th>\n",
       "      <td>2016</td>\n",
       "      <td>253579</td>\n",
       "    </tr>\n",
       "    <tr>\n",
       "      <th>3</th>\n",
       "      <td>2015</td>\n",
       "      <td>168945</td>\n",
       "    </tr>\n",
       "    <tr>\n",
       "      <th>4</th>\n",
       "      <td>2019</td>\n",
       "      <td>57343</td>\n",
       "    </tr>\n",
       "  </tbody>\n",
       "</table>\n",
       "</div>"
      ],
      "text/plain": [
       "   year  death_toll\n",
       "0  2018      338353\n",
       "1  2017      306868\n",
       "2  2016      253579\n",
       "3  2015      168945\n",
       "4  2019       57343"
      ]
     },
     "execution_count": 13,
     "metadata": {},
     "output_type": "execute_result"
    }
   ],
   "source": [
    "dataframe = psql.read_sql(\"SELECT  year, SUM (deaths) AS Death_Toll FROM overdoses \\\n",
    "                          GROUP BY year ORDER BY sum(overdoses.deaths) DESC\" , engine)\n",
    "dataframe.head()"
   ]
  },
  {
   "cell_type": "code",
   "execution_count": 15,
   "metadata": {},
   "outputs": [
    {
     "data": {
      "text/html": [
       "<div>\n",
       "<style scoped>\n",
       "    .dataframe tbody tr th:only-of-type {\n",
       "        vertical-align: middle;\n",
       "    }\n",
       "\n",
       "    .dataframe tbody tr th {\n",
       "        vertical-align: top;\n",
       "    }\n",
       "\n",
       "    .dataframe thead th {\n",
       "        text-align: right;\n",
       "    }\n",
       "</style>\n",
       "<table border=\"1\" class=\"dataframe\">\n",
       "  <thead>\n",
       "    <tr style=\"text-align: right;\">\n",
       "      <th></th>\n",
       "      <th>state_abbv</th>\n",
       "      <th>sum</th>\n",
       "    </tr>\n",
       "  </thead>\n",
       "  <tbody>\n",
       "    <tr>\n",
       "      <th>0</th>\n",
       "      <td>CA</td>\n",
       "      <td>195747</td>\n",
       "    </tr>\n",
       "    <tr>\n",
       "      <th>1</th>\n",
       "      <td>FL</td>\n",
       "      <td>152969</td>\n",
       "    </tr>\n",
       "    <tr>\n",
       "      <th>2</th>\n",
       "      <td>TX</td>\n",
       "      <td>131373</td>\n",
       "    </tr>\n",
       "    <tr>\n",
       "      <th>3</th>\n",
       "      <td>PA</td>\n",
       "      <td>101082</td>\n",
       "    </tr>\n",
       "    <tr>\n",
       "      <th>4</th>\n",
       "      <td>OH</td>\n",
       "      <td>91267</td>\n",
       "    </tr>\n",
       "  </tbody>\n",
       "</table>\n",
       "</div>"
      ],
      "text/plain": [
       "  state_abbv     sum\n",
       "0         CA  195747\n",
       "1         FL  152969\n",
       "2         TX  131373\n",
       "3         PA  101082\n",
       "4         OH   91267"
      ]
     },
     "execution_count": 15,
     "metadata": {},
     "output_type": "execute_result"
    }
   ],
   "source": [
    "dataframe = psql.read_sql(\"SELECT states.state_abbv, SUM(prescriptions.Total_Opioid_Prescriptions) \\\n",
    "                          FROM prescribers INNER JOIN states ON prescribers.state_id = states.state_id\\\n",
    "                          INNER JOIN prescriptions ON prescriptions.doctor_id = prescribers.doctor_id \\\n",
    "                          GROUP BY states.state_abbv ORDER BY SUM(prescriptions.Total_Opioid_Prescriptions) DESC \\\n",
    "                          LIMIT 5;\" , engine)\n",
    "dataframe.head()"
   ]
  },
  {
   "cell_type": "code",
   "execution_count": 17,
   "metadata": {},
   "outputs": [
    {
     "data": {
      "text/html": [
       "<div>\n",
       "<style scoped>\n",
       "    .dataframe tbody tr th:only-of-type {\n",
       "        vertical-align: middle;\n",
       "    }\n",
       "\n",
       "    .dataframe tbody tr th {\n",
       "        vertical-align: top;\n",
       "    }\n",
       "\n",
       "    .dataframe thead th {\n",
       "        text-align: right;\n",
       "    }\n",
       "</style>\n",
       "<table border=\"1\" class=\"dataframe\">\n",
       "  <thead>\n",
       "    <tr style=\"text-align: right;\">\n",
       "      <th></th>\n",
       "      <th>gender</th>\n",
       "      <th>sum</th>\n",
       "    </tr>\n",
       "  </thead>\n",
       "  <tbody>\n",
       "    <tr>\n",
       "      <th>0</th>\n",
       "      <td>M</td>\n",
       "      <td>1574999</td>\n",
       "    </tr>\n",
       "    <tr>\n",
       "      <th>1</th>\n",
       "      <td>F</td>\n",
       "      <td>567652</td>\n",
       "    </tr>\n",
       "  </tbody>\n",
       "</table>\n",
       "</div>"
      ],
      "text/plain": [
       "  gender      sum\n",
       "0      M  1574999\n",
       "1      F   567652"
      ]
     },
     "execution_count": 17,
     "metadata": {},
     "output_type": "execute_result"
    }
   ],
   "source": [
    "dataframe = psql.read_sql(\"SELECT prescribers.gender, SUM(prescriptions.Total_Opioid_Prescriptions)\\\n",
    "                          FROM prescriptions INNER JOIN prescribers ON prescriptions.doctor_id = prescribers.doctor_id \\\n",
    "                          GROUP BY prescribers.gender ORDER BY SUM(prescriptions.Total_Opioid_Prescriptions) DESC \\\n",
    "                          LIMIT 5;\" , engine)\n",
    "dataframe.head()"
   ]
  },
  {
   "cell_type": "code",
   "execution_count": 18,
   "metadata": {},
   "outputs": [
    {
     "data": {
      "text/html": [
       "<div>\n",
       "<style scoped>\n",
       "    .dataframe tbody tr th:only-of-type {\n",
       "        vertical-align: middle;\n",
       "    }\n",
       "\n",
       "    .dataframe tbody tr th {\n",
       "        vertical-align: top;\n",
       "    }\n",
       "\n",
       "    .dataframe thead th {\n",
       "        text-align: right;\n",
       "    }\n",
       "</style>\n",
       "<table border=\"1\" class=\"dataframe\">\n",
       "  <thead>\n",
       "    <tr style=\"text-align: right;\">\n",
       "      <th></th>\n",
       "      <th>doctor_type</th>\n",
       "      <th>sum</th>\n",
       "    </tr>\n",
       "  </thead>\n",
       "  <tbody>\n",
       "    <tr>\n",
       "      <th>0</th>\n",
       "      <td>Family Practice</td>\n",
       "      <td>588491</td>\n",
       "    </tr>\n",
       "    <tr>\n",
       "      <th>1</th>\n",
       "      <td>Internal Medicine</td>\n",
       "      <td>519651</td>\n",
       "    </tr>\n",
       "    <tr>\n",
       "      <th>2</th>\n",
       "      <td>Nurse Practitioner</td>\n",
       "      <td>174752</td>\n",
       "    </tr>\n",
       "    <tr>\n",
       "      <th>3</th>\n",
       "      <td>Physician Assistant</td>\n",
       "      <td>112873</td>\n",
       "    </tr>\n",
       "    <tr>\n",
       "      <th>4</th>\n",
       "      <td>Physical Medicine and Rehabilitation</td>\n",
       "      <td>87712</td>\n",
       "    </tr>\n",
       "  </tbody>\n",
       "</table>\n",
       "</div>"
      ],
      "text/plain": [
       "                            doctor_type     sum\n",
       "0                       Family Practice  588491\n",
       "1                     Internal Medicine  519651\n",
       "2                    Nurse Practitioner  174752\n",
       "3                   Physician Assistant  112873\n",
       "4  Physical Medicine and Rehabilitation   87712"
      ]
     },
     "execution_count": 18,
     "metadata": {},
     "output_type": "execute_result"
    }
   ],
   "source": [
    "dataframe = psql.read_sql(\"SELECT prescribers.doctor_type, SUM(prescriptions.Total_Opioid_Prescriptions)\\\n",
    "                          FROM prescriptions INNER JOIN prescribers ON prescriptions.doctor_id = prescribers.doctor_id\\\n",
    "                          GROUP BY prescribers.doctor_type ORDER BY SUM(prescriptions.Total_Opioid_Prescriptions) DESC\\\n",
    "                          LIMIT 5;\" , engine)\n",
    "dataframe.head()\n"
   ]
  },
  {
   "cell_type": "code",
   "execution_count": null,
   "metadata": {},
   "outputs": [],
   "source": [
    "SELECT gender, COUNT(gender) FROM prescribers\n",
    "GROUP BY gender;"
   ]
  }
 ],
 "metadata": {
  "kernelspec": {
   "display_name": "Python 3",
   "language": "python",
   "name": "python3"
  },
  "language_info": {
   "codemirror_mode": {
    "name": "ipython",
    "version": 3
   },
   "file_extension": ".py",
   "mimetype": "text/x-python",
   "name": "python",
   "nbconvert_exporter": "python",
   "pygments_lexer": "ipython3",
   "version": "3.7.3"
  }
 },
 "nbformat": 4,
 "nbformat_minor": 2
}
